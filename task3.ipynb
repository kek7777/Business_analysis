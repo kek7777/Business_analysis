{
 "cells": [
  {
   "cell_type": "code",
   "execution_count": 2,
   "id": "89f56307",
   "metadata": {},
   "outputs": [],
   "source": [
    "import pandas as pd\n",
    "import matplotlib.pyplot as plt"
   ]
  },
  {
   "cell_type": "code",
   "execution_count": 3,
   "id": "b46e62fa",
   "metadata": {},
   "outputs": [],
   "source": [
    "df_tariff = pd.read_csv((r\"C:\\Users\\Admin\\WORK\\Time_series_analysis\\src\\data\\Tariff_plans_change.csv\"))\n",
    "df_charges = pd.read_csv((r\"C:\\Users\\Admin\\WORK\\Time_series_analysis\\src\\data\\Charges.csv\"))\n",
    "df_suspended = pd.read_csv((r\"C:\\Users\\Admin\\WORK\\Time_series_analysis\\src\\data\\Suspended.csv\"))"
   ]
  },
  {
   "cell_type": "code",
   "execution_count": 41,
   "id": "86421687",
   "metadata": {},
   "outputs": [
    {
     "name": "stdout",
     "output_type": "stream",
     "text": [
      "   SUBSCRIBER_ID  TARIFF_PLAN_ID          START_DTTM            END_DTTM\n",
      "0              1               2 2013-11-22 21:10:08 2017-03-11 14:24:17\n",
      "1              1               3 2017-03-11 14:24:18                 NaT\n",
      "2              2               1 2016-02-05 16:36:34 2017-06-29 12:39:58\n",
      "3              2               5 2017-06-29 12:39:59                 NaT\n",
      "4              3               1 2015-05-06 19:17:46 2017-04-14 12:00:59\n",
      "   SUBSCRIBER_ID  BILL_MONTH  CHARGES\n",
      "0           4741  2017-03-01    4.572\n",
      "1           1754  2017-05-01    4.894\n",
      "2            381  2017-01-01    6.670\n",
      "3           5832  2016-12-01    4.299\n",
      "4           5277  2017-03-01    1.610\n",
      "   SUBSCRIBER_ID    START_DT      END_DT     STATUS\n",
      "0           5195  2017-12-27  2017-12-27  Suspended\n",
      "1           5198  2017-04-18  2017-04-18  Suspended\n",
      "2            381  2017-04-18  2017-04-20  Suspended\n",
      "3           3500  2017-12-21      $null$  Suspended\n",
      "4           3302  2016-08-23  2016-09-07  Suspended\n"
     ]
    }
   ],
   "source": [
    "print(df_tariff.head())\n",
    "print(df_charges.head())\n",
    "print(df_suspended.head())\n"
   ]
  },
  {
   "cell_type": "code",
   "execution_count": null,
   "id": "4b1bfe90",
   "metadata": {},
   "outputs": [
    {
     "name": "stdout",
     "output_type": "stream",
     "text": [
      "<class 'pandas.core.frame.DataFrame'>\n",
      "RangeIndex: 12344 entries, 0 to 12343\n",
      "Data columns (total 4 columns):\n",
      " #   Column          Non-Null Count  Dtype \n",
      "---  ------          --------------  ----- \n",
      " 0   SUBSCRIBER_ID   12344 non-null  int64 \n",
      " 1   TARIFF_PLAN_ID  12344 non-null  int64 \n",
      " 2   START_DTTM      12344 non-null  object\n",
      " 3   END_DTTM        12344 non-null  object\n",
      "dtypes: int64(2), object(2)\n",
      "memory usage: 385.9+ KB\n",
      "None\n",
      "<class 'pandas.core.frame.DataFrame'>\n",
      "RangeIndex: 112595 entries, 0 to 112594\n",
      "Data columns (total 3 columns):\n",
      " #   Column         Non-Null Count   Dtype  \n",
      "---  ------         --------------   -----  \n",
      " 0   SUBSCRIBER_ID  112595 non-null  int64  \n",
      " 1   BILL_MONTH     112595 non-null  object \n",
      " 2   CHARGES        112595 non-null  float64\n",
      "dtypes: float64(1), int64(1), object(1)\n",
      "memory usage: 2.6+ MB\n",
      "None\n",
      "<class 'pandas.core.frame.DataFrame'>\n",
      "RangeIndex: 4063 entries, 0 to 4062\n",
      "Data columns (total 4 columns):\n",
      " #   Column         Non-Null Count  Dtype \n",
      "---  ------         --------------  ----- \n",
      " 0   SUBSCRIBER_ID  4063 non-null   int64 \n",
      " 1   START_DT       4063 non-null   object\n",
      " 2   END_DT         4063 non-null   object\n",
      " 3   STATUS         4063 non-null   object\n",
      "dtypes: int64(1), object(3)\n",
      "memory usage: 127.1+ KB\n",
      "None\n"
     ]
    }
   ],
   "source": [
    "print(df_tariff.info())\n",
    "print(df_charges.info())\n",
    "print(df_suspended.info())"
   ]
  },
  {
   "cell_type": "code",
   "execution_count": null,
   "id": "21ef0b7d",
   "metadata": {},
   "outputs": [
    {
     "name": "stdout",
     "output_type": "stream",
     "text": [
      "   SUBSCRIBER_ID  TARIFF_PLAN_ID          START_DTTM            END_DTTM\n",
      "0              1               2 2013-11-22 21:10:08 2017-03-11 14:24:17\n",
      "1              1               3 2017-03-11 14:24:18                 NaT\n",
      "2              2               1 2016-02-05 16:36:34 2017-06-29 12:39:58\n",
      "3              2               5 2017-06-29 12:39:59                 NaT\n",
      "4              3               1 2015-05-06 19:17:46 2017-04-14 12:00:59\n",
      "5              3               5 2017-04-14 12:01:00                 NaT\n",
      "6              4               3 2016-01-27 23:03:51 2017-01-09 19:27:50\n",
      "7              4               5 2017-01-09 19:27:51                 NaT\n",
      "8              5               1 2016-02-06 08:07:15 2017-05-08 12:39:59\n",
      "9              5               5 2017-05-08 12:40:00                 NaT\n",
      "   SUBSCRIBER_ID  BILL_MONTH  CHARGES\n",
      "0           4741  2017-03-01    4.572\n",
      "1           1754  2017-05-01    4.894\n",
      "2            381  2017-01-01    6.670\n",
      "3           5832  2016-12-01    4.299\n",
      "4           5277  2017-03-01    1.610\n",
      "5           4512  2017-02-01    3.220\n",
      "6           1688  2017-05-01    7.391\n",
      "7           3204  2017-10-01    2.456\n",
      "8           1277  2016-08-01   11.242\n",
      "9           5424  2017-04-01   26.986\n"
     ]
    }
   ],
   "source": [
    "print(df_tariff.head(10))\n",
    "print(df_charges.head(10))\n"
   ]
  },
  {
   "cell_type": "code",
   "execution_count": 5,
   "id": "bc48d141",
   "metadata": {},
   "outputs": [
    {
     "data": {
      "text/plain": [
       "array([2, 3, 1, 5, 4])"
      ]
     },
     "execution_count": 5,
     "metadata": {},
     "output_type": "execute_result"
    }
   ],
   "source": [
    "# count tafiff\n",
    "df_tariff['TARIFF_PLAN_ID'].unique()"
   ]
  },
  {
   "cell_type": "code",
   "execution_count": 42,
   "id": "686a683f",
   "metadata": {},
   "outputs": [],
   "source": [
    "# Change type to datetime\n",
    "df_tariff['START_DTTM'] = pd.to_datetime(df_tariff['START_DTTM'])\n",
    "df_tariff['END_DTTM'] = pd.to_datetime(df_tariff['END_DTTM'], errors='coerce')  # '$null$'  to   NaT\n",
    "df_charges['BILL_MONTH'] = pd.to_datetime(df_charges['BILL_MONTH'])\n",
    "df_suspended['END_DT'] = pd.to_datetime(df_suspended['END_DT'], errors='coerce')  # '$null$'  to   NaT\n",
    "df_suspended['START_DT'] = pd.to_datetime(df_suspended['START_DT'])"
   ]
  },
  {
   "cell_type": "code",
   "execution_count": 77,
   "id": "dc50d7fe",
   "metadata": {},
   "outputs": [
    {
     "name": "stdout",
     "output_type": "stream",
     "text": [
      "    FROM_TARIFF  TO_TARIFF  COUNT\n",
      "0             1          1      9\n",
      "1             1          2      5\n",
      "2             1          3     55\n",
      "3             1          4    378\n",
      "4             1          5   1613\n",
      "5             2          1     13\n",
      "6             2          3     20\n",
      "7             2          4    158\n",
      "8             2          5    417\n",
      "9             3          1     28\n",
      "10            3          2     12\n",
      "11            3          3     21\n",
      "12            3          4    367\n",
      "13            3          5   2372\n",
      "14            4          1     37\n",
      "15            4          2     20\n",
      "16            4          3     56\n",
      "17            4          4      8\n",
      "18            4          5    528\n",
      "19            5          1     81\n",
      "20            5          2      4\n",
      "21            5          3     75\n",
      "22            5          4     49\n",
      "23            5          5     29\n"
     ]
    }
   ],
   "source": [
    "\n",
    "\n",
    "df = df_tariff.sort_values(['SUBSCRIBER_ID', 'START_DTTM'])                        # sort\n",
    "\n",
    "df['PREV_TARIFF'] = df.groupby('SUBSCRIBER_ID')['TARIFF_PLAN_ID'].shift(1)        #  make previous value tarif for everything SUBSCRIBE\n",
    "\n",
    "transitions = df.dropna(subset=['PREV_TARIFF'])                                    # delete NAN in first row of \"PREV_TARIFF\" \n",
    "transition_counts = transitions.groupby(['PREV_TARIFF', 'TARIFF_PLAN_ID']).size().reset_index(name='COUNT')    # Count (From → To)\n",
    "\n",
    "transition_counts.columns = ['FROM_TARIFF', 'TO_TARIFF', 'COUNT']\n",
    "transition_counts['FROM_TARIFF'] = transition_counts['FROM_TARIFF'].astype(int)\n",
    "\n",
    "print(transition_counts)\n"
   ]
  },
  {
   "cell_type": "code",
   "execution_count": 35,
   "id": "16909e3b",
   "metadata": {},
   "outputs": [
    {
     "data": {
      "application/vnd.plotly.v1+json": {
       "config": {
        "plotlyServerURL": "https://plot.ly"
       },
       "data": [
        {
         "link": {
          "source": {
           "bdata": "AAAAAAABAQEBAgICAgIDAwMDAwQEBAQE",
           "dtype": "i1"
          },
          "target": {
           "bdata": "AAECAwQAAgMEAAECAwQAAQIDBAABAgME",
           "dtype": "i1"
          },
          "value": {
           "bdata": "CQAFADcAegFNBg0AFACeAKEBHAAMABUAbwFECSUAFAA4AAgAEAJRAAQASwAxAB0A",
           "dtype": "i2"
          }
         },
         "node": {
          "label": [
           "Tariff 1",
           "Tariff 2",
           "Tariff 3",
           "Tariff 4",
           "Tariff 5"
          ]
         },
         "type": "sankey"
        }
       ],
       "layout": {
        "template": {
         "data": {
          "bar": [
           {
            "error_x": {
             "color": "#2a3f5f"
            },
            "error_y": {
             "color": "#2a3f5f"
            },
            "marker": {
             "line": {
              "color": "#E5ECF6",
              "width": 0.5
             },
             "pattern": {
              "fillmode": "overlay",
              "size": 10,
              "solidity": 0.2
             }
            },
            "type": "bar"
           }
          ],
          "barpolar": [
           {
            "marker": {
             "line": {
              "color": "#E5ECF6",
              "width": 0.5
             },
             "pattern": {
              "fillmode": "overlay",
              "size": 10,
              "solidity": 0.2
             }
            },
            "type": "barpolar"
           }
          ],
          "carpet": [
           {
            "aaxis": {
             "endlinecolor": "#2a3f5f",
             "gridcolor": "white",
             "linecolor": "white",
             "minorgridcolor": "white",
             "startlinecolor": "#2a3f5f"
            },
            "baxis": {
             "endlinecolor": "#2a3f5f",
             "gridcolor": "white",
             "linecolor": "white",
             "minorgridcolor": "white",
             "startlinecolor": "#2a3f5f"
            },
            "type": "carpet"
           }
          ],
          "choropleth": [
           {
            "colorbar": {
             "outlinewidth": 0,
             "ticks": ""
            },
            "type": "choropleth"
           }
          ],
          "contour": [
           {
            "colorbar": {
             "outlinewidth": 0,
             "ticks": ""
            },
            "colorscale": [
             [
              0,
              "#0d0887"
             ],
             [
              0.1111111111111111,
              "#46039f"
             ],
             [
              0.2222222222222222,
              "#7201a8"
             ],
             [
              0.3333333333333333,
              "#9c179e"
             ],
             [
              0.4444444444444444,
              "#bd3786"
             ],
             [
              0.5555555555555556,
              "#d8576b"
             ],
             [
              0.6666666666666666,
              "#ed7953"
             ],
             [
              0.7777777777777778,
              "#fb9f3a"
             ],
             [
              0.8888888888888888,
              "#fdca26"
             ],
             [
              1,
              "#f0f921"
             ]
            ],
            "type": "contour"
           }
          ],
          "contourcarpet": [
           {
            "colorbar": {
             "outlinewidth": 0,
             "ticks": ""
            },
            "type": "contourcarpet"
           }
          ],
          "heatmap": [
           {
            "colorbar": {
             "outlinewidth": 0,
             "ticks": ""
            },
            "colorscale": [
             [
              0,
              "#0d0887"
             ],
             [
              0.1111111111111111,
              "#46039f"
             ],
             [
              0.2222222222222222,
              "#7201a8"
             ],
             [
              0.3333333333333333,
              "#9c179e"
             ],
             [
              0.4444444444444444,
              "#bd3786"
             ],
             [
              0.5555555555555556,
              "#d8576b"
             ],
             [
              0.6666666666666666,
              "#ed7953"
             ],
             [
              0.7777777777777778,
              "#fb9f3a"
             ],
             [
              0.8888888888888888,
              "#fdca26"
             ],
             [
              1,
              "#f0f921"
             ]
            ],
            "type": "heatmap"
           }
          ],
          "histogram": [
           {
            "marker": {
             "pattern": {
              "fillmode": "overlay",
              "size": 10,
              "solidity": 0.2
             }
            },
            "type": "histogram"
           }
          ],
          "histogram2d": [
           {
            "colorbar": {
             "outlinewidth": 0,
             "ticks": ""
            },
            "colorscale": [
             [
              0,
              "#0d0887"
             ],
             [
              0.1111111111111111,
              "#46039f"
             ],
             [
              0.2222222222222222,
              "#7201a8"
             ],
             [
              0.3333333333333333,
              "#9c179e"
             ],
             [
              0.4444444444444444,
              "#bd3786"
             ],
             [
              0.5555555555555556,
              "#d8576b"
             ],
             [
              0.6666666666666666,
              "#ed7953"
             ],
             [
              0.7777777777777778,
              "#fb9f3a"
             ],
             [
              0.8888888888888888,
              "#fdca26"
             ],
             [
              1,
              "#f0f921"
             ]
            ],
            "type": "histogram2d"
           }
          ],
          "histogram2dcontour": [
           {
            "colorbar": {
             "outlinewidth": 0,
             "ticks": ""
            },
            "colorscale": [
             [
              0,
              "#0d0887"
             ],
             [
              0.1111111111111111,
              "#46039f"
             ],
             [
              0.2222222222222222,
              "#7201a8"
             ],
             [
              0.3333333333333333,
              "#9c179e"
             ],
             [
              0.4444444444444444,
              "#bd3786"
             ],
             [
              0.5555555555555556,
              "#d8576b"
             ],
             [
              0.6666666666666666,
              "#ed7953"
             ],
             [
              0.7777777777777778,
              "#fb9f3a"
             ],
             [
              0.8888888888888888,
              "#fdca26"
             ],
             [
              1,
              "#f0f921"
             ]
            ],
            "type": "histogram2dcontour"
           }
          ],
          "mesh3d": [
           {
            "colorbar": {
             "outlinewidth": 0,
             "ticks": ""
            },
            "type": "mesh3d"
           }
          ],
          "parcoords": [
           {
            "line": {
             "colorbar": {
              "outlinewidth": 0,
              "ticks": ""
             }
            },
            "type": "parcoords"
           }
          ],
          "pie": [
           {
            "automargin": true,
            "type": "pie"
           }
          ],
          "scatter": [
           {
            "fillpattern": {
             "fillmode": "overlay",
             "size": 10,
             "solidity": 0.2
            },
            "type": "scatter"
           }
          ],
          "scatter3d": [
           {
            "line": {
             "colorbar": {
              "outlinewidth": 0,
              "ticks": ""
             }
            },
            "marker": {
             "colorbar": {
              "outlinewidth": 0,
              "ticks": ""
             }
            },
            "type": "scatter3d"
           }
          ],
          "scattercarpet": [
           {
            "marker": {
             "colorbar": {
              "outlinewidth": 0,
              "ticks": ""
             }
            },
            "type": "scattercarpet"
           }
          ],
          "scattergeo": [
           {
            "marker": {
             "colorbar": {
              "outlinewidth": 0,
              "ticks": ""
             }
            },
            "type": "scattergeo"
           }
          ],
          "scattergl": [
           {
            "marker": {
             "colorbar": {
              "outlinewidth": 0,
              "ticks": ""
             }
            },
            "type": "scattergl"
           }
          ],
          "scattermap": [
           {
            "marker": {
             "colorbar": {
              "outlinewidth": 0,
              "ticks": ""
             }
            },
            "type": "scattermap"
           }
          ],
          "scattermapbox": [
           {
            "marker": {
             "colorbar": {
              "outlinewidth": 0,
              "ticks": ""
             }
            },
            "type": "scattermapbox"
           }
          ],
          "scatterpolar": [
           {
            "marker": {
             "colorbar": {
              "outlinewidth": 0,
              "ticks": ""
             }
            },
            "type": "scatterpolar"
           }
          ],
          "scatterpolargl": [
           {
            "marker": {
             "colorbar": {
              "outlinewidth": 0,
              "ticks": ""
             }
            },
            "type": "scatterpolargl"
           }
          ],
          "scatterternary": [
           {
            "marker": {
             "colorbar": {
              "outlinewidth": 0,
              "ticks": ""
             }
            },
            "type": "scatterternary"
           }
          ],
          "surface": [
           {
            "colorbar": {
             "outlinewidth": 0,
             "ticks": ""
            },
            "colorscale": [
             [
              0,
              "#0d0887"
             ],
             [
              0.1111111111111111,
              "#46039f"
             ],
             [
              0.2222222222222222,
              "#7201a8"
             ],
             [
              0.3333333333333333,
              "#9c179e"
             ],
             [
              0.4444444444444444,
              "#bd3786"
             ],
             [
              0.5555555555555556,
              "#d8576b"
             ],
             [
              0.6666666666666666,
              "#ed7953"
             ],
             [
              0.7777777777777778,
              "#fb9f3a"
             ],
             [
              0.8888888888888888,
              "#fdca26"
             ],
             [
              1,
              "#f0f921"
             ]
            ],
            "type": "surface"
           }
          ],
          "table": [
           {
            "cells": {
             "fill": {
              "color": "#EBF0F8"
             },
             "line": {
              "color": "white"
             }
            },
            "header": {
             "fill": {
              "color": "#C8D4E3"
             },
             "line": {
              "color": "white"
             }
            },
            "type": "table"
           }
          ]
         },
         "layout": {
          "annotationdefaults": {
           "arrowcolor": "#2a3f5f",
           "arrowhead": 0,
           "arrowwidth": 1
          },
          "autotypenumbers": "strict",
          "coloraxis": {
           "colorbar": {
            "outlinewidth": 0,
            "ticks": ""
           }
          },
          "colorscale": {
           "diverging": [
            [
             0,
             "#8e0152"
            ],
            [
             0.1,
             "#c51b7d"
            ],
            [
             0.2,
             "#de77ae"
            ],
            [
             0.3,
             "#f1b6da"
            ],
            [
             0.4,
             "#fde0ef"
            ],
            [
             0.5,
             "#f7f7f7"
            ],
            [
             0.6,
             "#e6f5d0"
            ],
            [
             0.7,
             "#b8e186"
            ],
            [
             0.8,
             "#7fbc41"
            ],
            [
             0.9,
             "#4d9221"
            ],
            [
             1,
             "#276419"
            ]
           ],
           "sequential": [
            [
             0,
             "#0d0887"
            ],
            [
             0.1111111111111111,
             "#46039f"
            ],
            [
             0.2222222222222222,
             "#7201a8"
            ],
            [
             0.3333333333333333,
             "#9c179e"
            ],
            [
             0.4444444444444444,
             "#bd3786"
            ],
            [
             0.5555555555555556,
             "#d8576b"
            ],
            [
             0.6666666666666666,
             "#ed7953"
            ],
            [
             0.7777777777777778,
             "#fb9f3a"
            ],
            [
             0.8888888888888888,
             "#fdca26"
            ],
            [
             1,
             "#f0f921"
            ]
           ],
           "sequentialminus": [
            [
             0,
             "#0d0887"
            ],
            [
             0.1111111111111111,
             "#46039f"
            ],
            [
             0.2222222222222222,
             "#7201a8"
            ],
            [
             0.3333333333333333,
             "#9c179e"
            ],
            [
             0.4444444444444444,
             "#bd3786"
            ],
            [
             0.5555555555555556,
             "#d8576b"
            ],
            [
             0.6666666666666666,
             "#ed7953"
            ],
            [
             0.7777777777777778,
             "#fb9f3a"
            ],
            [
             0.8888888888888888,
             "#fdca26"
            ],
            [
             1,
             "#f0f921"
            ]
           ]
          },
          "colorway": [
           "#636efa",
           "#EF553B",
           "#00cc96",
           "#ab63fa",
           "#FFA15A",
           "#19d3f3",
           "#FF6692",
           "#B6E880",
           "#FF97FF",
           "#FECB52"
          ],
          "font": {
           "color": "#2a3f5f"
          },
          "geo": {
           "bgcolor": "white",
           "lakecolor": "white",
           "landcolor": "#E5ECF6",
           "showlakes": true,
           "showland": true,
           "subunitcolor": "white"
          },
          "hoverlabel": {
           "align": "left"
          },
          "hovermode": "closest",
          "mapbox": {
           "style": "light"
          },
          "paper_bgcolor": "white",
          "plot_bgcolor": "#E5ECF6",
          "polar": {
           "angularaxis": {
            "gridcolor": "white",
            "linecolor": "white",
            "ticks": ""
           },
           "bgcolor": "#E5ECF6",
           "radialaxis": {
            "gridcolor": "white",
            "linecolor": "white",
            "ticks": ""
           }
          },
          "scene": {
           "xaxis": {
            "backgroundcolor": "#E5ECF6",
            "gridcolor": "white",
            "gridwidth": 2,
            "linecolor": "white",
            "showbackground": true,
            "ticks": "",
            "zerolinecolor": "white"
           },
           "yaxis": {
            "backgroundcolor": "#E5ECF6",
            "gridcolor": "white",
            "gridwidth": 2,
            "linecolor": "white",
            "showbackground": true,
            "ticks": "",
            "zerolinecolor": "white"
           },
           "zaxis": {
            "backgroundcolor": "#E5ECF6",
            "gridcolor": "white",
            "gridwidth": 2,
            "linecolor": "white",
            "showbackground": true,
            "ticks": "",
            "zerolinecolor": "white"
           }
          },
          "shapedefaults": {
           "line": {
            "color": "#2a3f5f"
           }
          },
          "ternary": {
           "aaxis": {
            "gridcolor": "white",
            "linecolor": "white",
            "ticks": ""
           },
           "baxis": {
            "gridcolor": "white",
            "linecolor": "white",
            "ticks": ""
           },
           "bgcolor": "#E5ECF6",
           "caxis": {
            "gridcolor": "white",
            "linecolor": "white",
            "ticks": ""
           }
          },
          "title": {
           "x": 0.05
          },
          "xaxis": {
           "automargin": true,
           "gridcolor": "white",
           "linecolor": "white",
           "ticks": "",
           "title": {
            "standoff": 15
           },
           "zerolinecolor": "white",
           "zerolinewidth": 2
          },
          "yaxis": {
           "automargin": true,
           "gridcolor": "white",
           "linecolor": "white",
           "ticks": "",
           "title": {
            "standoff": 15
           },
           "zerolinecolor": "white",
           "zerolinewidth": 2
          }
         }
        }
       }
      }
     },
     "metadata": {},
     "output_type": "display_data"
    }
   ],
   "source": [
    "import plotly.graph_objects as go\n",
    "\n",
    "fig = go.Figure(go.Sankey(\n",
    "    node=dict(label=[\"Tariff 1\", \"Tariff 2\", \"Tariff 3\", \"Tariff 4\", \"Tariff 5\"]),\n",
    "    link=dict(\n",
    "        source=transition_counts['FROM_TARIFF'] - 1,  # Индексы начинаются с 0\n",
    "        target=transition_counts['TO_TARIFF'] - 1,\n",
    "        value=transition_counts['COUNT']\n",
    "    )\n",
    "))\n",
    "fig.show()\n",
    "\n"
   ]
  },
  {
   "cell_type": "code",
   "execution_count": 36,
   "id": "739421bd",
   "metadata": {},
   "outputs": [
    {
     "data": {
      "image/png": "[encoded data removed]",
      "text/plain": [
       "<Figure size 800x600 with 2 Axes>"
      ]
     },
     "metadata": {},
     "output_type": "display_data"
    }
   ],
   "source": [
    "import seaborn as sns\n",
    "import matplotlib.pyplot as plt\n",
    "\n",
    "# Создаем матрицу переходов\n",
    "transition_matrix = pd.crosstab(\n",
    "    index=transition_counts['FROM_TARIFF'], \n",
    "    columns=transition_counts['TO_TARIFF'],\n",
    "    values=transition_counts['COUNT'], \n",
    "    aggfunc='sum'\n",
    ").fillna(0)\n",
    "\n",
    "# Визуализация\n",
    "plt.figure(figsize=(8, 6))\n",
    "sns.heatmap(transition_matrix, annot=True, fmt='g', cmap='Greens')\n",
    "plt.title('Matrix of transitions between tariffs')\n",
    "plt.xlabel('Tarrif (To)')\n",
    "plt.ylabel('Tarrif (From)')\n",
    "plt.show()"
   ]
  },
  {
   "cell_type": "code",
   "execution_count": null,
   "id": "79abecda",
   "metadata": {},
   "outputs": [
    {
     "data": {
      "text/html": [
       "<div>\n",
       "<style scoped>\n",
       "    .dataframe tbody tr th:only-of-type {\n",
       "        vertical-align: middle;\n",
       "    }\n",
       "\n",
       "    .dataframe tbody tr th {\n",
       "        vertical-align: top;\n",
       "    }\n",
       "\n",
       "    .dataframe thead th {\n",
       "        text-align: right;\n",
       "    }\n",
       "</style>\n",
       "<table border=\"1\" class=\"dataframe\">\n",
       "  <thead>\n",
       "    <tr style=\"text-align: right;\">\n",
       "      <th></th>\n",
       "      <th>SUBSCRIBER_ID</th>\n",
       "      <th>TARIFF_PLAN_ID</th>\n",
       "      <th>START_DTTM</th>\n",
       "      <th>END_DTTM</th>\n",
       "      <th>PREV_TARIFF</th>\n",
       "      <th>change_month</th>\n",
       "    </tr>\n",
       "  </thead>\n",
       "  <tbody>\n",
       "    <tr>\n",
       "      <th>0</th>\n",
       "      <td>1</td>\n",
       "      <td>2</td>\n",
       "      <td>2013-11-22 21:10:08</td>\n",
       "      <td>2017-03-11 14:24:17</td>\n",
       "      <td>NaN</td>\n",
       "      <td>2013-11</td>\n",
       "    </tr>\n",
       "    <tr>\n",
       "      <th>1</th>\n",
       "      <td>1</td>\n",
       "      <td>3</td>\n",
       "      <td>2017-03-11 14:24:18</td>\n",
       "      <td>NaT</td>\n",
       "      <td>2.0</td>\n",
       "      <td>2017-03</td>\n",
       "    </tr>\n",
       "    <tr>\n",
       "      <th>2</th>\n",
       "      <td>2</td>\n",
       "      <td>1</td>\n",
       "      <td>2016-02-05 16:36:34</td>\n",
       "      <td>2017-06-29 12:39:58</td>\n",
       "      <td>NaN</td>\n",
       "      <td>2016-02</td>\n",
       "    </tr>\n",
       "    <tr>\n",
       "      <th>3</th>\n",
       "      <td>2</td>\n",
       "      <td>5</td>\n",
       "      <td>2017-06-29 12:39:59</td>\n",
       "      <td>NaT</td>\n",
       "      <td>1.0</td>\n",
       "      <td>2017-06</td>\n",
       "    </tr>\n",
       "    <tr>\n",
       "      <th>4</th>\n",
       "      <td>3</td>\n",
       "      <td>1</td>\n",
       "      <td>2015-05-06 19:17:46</td>\n",
       "      <td>2017-04-14 12:00:59</td>\n",
       "      <td>NaN</td>\n",
       "      <td>2015-05</td>\n",
       "    </tr>\n",
       "    <tr>\n",
       "      <th>...</th>\n",
       "      <td>...</td>\n",
       "      <td>...</td>\n",
       "      <td>...</td>\n",
       "      <td>...</td>\n",
       "      <td>...</td>\n",
       "      <td>...</td>\n",
       "    </tr>\n",
       "    <tr>\n",
       "      <th>12339</th>\n",
       "      <td>5987</td>\n",
       "      <td>3</td>\n",
       "      <td>2017-05-23 13:07:57</td>\n",
       "      <td>NaT</td>\n",
       "      <td>5.0</td>\n",
       "      <td>2017-05</td>\n",
       "    </tr>\n",
       "    <tr>\n",
       "      <th>12340</th>\n",
       "      <td>5988</td>\n",
       "      <td>1</td>\n",
       "      <td>2017-05-10 10:36:53</td>\n",
       "      <td>2017-05-22 16:36:55</td>\n",
       "      <td>NaN</td>\n",
       "      <td>2017-05</td>\n",
       "    </tr>\n",
       "    <tr>\n",
       "      <th>12341</th>\n",
       "      <td>5988</td>\n",
       "      <td>4</td>\n",
       "      <td>2017-05-22 16:36:56</td>\n",
       "      <td>NaT</td>\n",
       "      <td>1.0</td>\n",
       "      <td>2017-05</td>\n",
       "    </tr>\n",
       "    <tr>\n",
       "      <th>12342</th>\n",
       "      <td>5989</td>\n",
       "      <td>5</td>\n",
       "      <td>2017-05-24 14:46:11</td>\n",
       "      <td>2017-05-25 20:12:32</td>\n",
       "      <td>NaN</td>\n",
       "      <td>2017-05</td>\n",
       "    </tr>\n",
       "    <tr>\n",
       "      <th>12343</th>\n",
       "      <td>5989</td>\n",
       "      <td>1</td>\n",
       "      <td>2017-05-25 20:12:33</td>\n",
       "      <td>NaT</td>\n",
       "      <td>5.0</td>\n",
       "      <td>2017-05</td>\n",
       "    </tr>\n",
       "  </tbody>\n",
       "</table>\n",
       "<p>12344 rows × 6 columns</p>\n",
       "</div>"
      ],
      "text/plain": [
       "       SUBSCRIBER_ID  TARIFF_PLAN_ID          START_DTTM            END_DTTM  \\\n",
       "0                  1               2 2013-11-22 21:10:08 2017-03-11 14:24:17   \n",
       "1                  1               3 2017-03-11 14:24:18                 NaT   \n",
       "2                  2               1 2016-02-05 16:36:34 2017-06-29 12:39:58   \n",
       "3                  2               5 2017-06-29 12:39:59                 NaT   \n",
       "4                  3               1 2015-05-06 19:17:46 2017-04-14 12:00:59   \n",
       "...              ...             ...                 ...                 ...   \n",
       "12339           5987               3 2017-05-23 13:07:57                 NaT   \n",
       "12340           5988               1 2017-05-10 10:36:53 2017-05-22 16:36:55   \n",
       "12341           5988               4 2017-05-22 16:36:56                 NaT   \n",
       "12342           5989               5 2017-05-24 14:46:11 2017-05-25 20:12:32   \n",
       "12343           5989               1 2017-05-25 20:12:33                 NaT   \n",
       "\n",
       "       PREV_TARIFF change_month  \n",
       "0              NaN      2013-11  \n",
       "1              2.0      2017-03  \n",
       "2              NaN      2016-02  \n",
       "3              1.0      2017-06  \n",
       "4              NaN      2015-05  \n",
       "...            ...          ...  \n",
       "12339          5.0      2017-05  \n",
       "12340          NaN      2017-05  \n",
       "12341          1.0      2017-05  \n",
       "12342          NaN      2017-05  \n",
       "12343          5.0      2017-05  \n",
       "\n",
       "[12344 rows x 6 columns]"
      ]
     },
     "execution_count": 73,
     "metadata": {},
     "output_type": "execute_result"
    }
   ],
   "source": [
    "df['change_month'] = df['START_DTTM'].dt.to_period('M')     #changes format (yyyy-mm-dd) to (yyyy-mm)\n",
    "transitions = df.dropna(subset=['PREV_TARIFF']).copy()      # delete Nan   \n",
    "df\n"
   ]
  },
  {
   "cell_type": "code",
   "execution_count": 74,
   "id": "16ff2969",
   "metadata": {},
   "outputs": [
    {
     "data": {
      "text/html": [
       "<div>\n",
       "<style scoped>\n",
       "    .dataframe tbody tr th:only-of-type {\n",
       "        vertical-align: middle;\n",
       "    }\n",
       "\n",
       "    .dataframe tbody tr th {\n",
       "        vertical-align: top;\n",
       "    }\n",
       "\n",
       "    .dataframe thead th {\n",
       "        text-align: right;\n",
       "    }\n",
       "</style>\n",
       "<table border=\"1\" class=\"dataframe\">\n",
       "  <thead>\n",
       "    <tr style=\"text-align: right;\">\n",
       "      <th></th>\n",
       "      <th>SUBSCRIBER_ID</th>\n",
       "      <th>TARIFF_PLAN_ID</th>\n",
       "      <th>START_DTTM</th>\n",
       "      <th>END_DTTM</th>\n",
       "      <th>PREV_TARIFF</th>\n",
       "      <th>change_month</th>\n",
       "    </tr>\n",
       "  </thead>\n",
       "  <tbody>\n",
       "    <tr>\n",
       "      <th>1</th>\n",
       "      <td>1</td>\n",
       "      <td>3</td>\n",
       "      <td>2017-03-11 14:24:18</td>\n",
       "      <td>NaT</td>\n",
       "      <td>2.0</td>\n",
       "      <td>2017-03</td>\n",
       "    </tr>\n",
       "    <tr>\n",
       "      <th>3</th>\n",
       "      <td>2</td>\n",
       "      <td>5</td>\n",
       "      <td>2017-06-29 12:39:59</td>\n",
       "      <td>NaT</td>\n",
       "      <td>1.0</td>\n",
       "      <td>2017-06</td>\n",
       "    </tr>\n",
       "    <tr>\n",
       "      <th>5</th>\n",
       "      <td>3</td>\n",
       "      <td>5</td>\n",
       "      <td>2017-04-14 12:01:00</td>\n",
       "      <td>NaT</td>\n",
       "      <td>1.0</td>\n",
       "      <td>2017-04</td>\n",
       "    </tr>\n",
       "    <tr>\n",
       "      <th>7</th>\n",
       "      <td>4</td>\n",
       "      <td>5</td>\n",
       "      <td>2017-01-09 19:27:51</td>\n",
       "      <td>NaT</td>\n",
       "      <td>3.0</td>\n",
       "      <td>2017-01</td>\n",
       "    </tr>\n",
       "    <tr>\n",
       "      <th>9</th>\n",
       "      <td>5</td>\n",
       "      <td>5</td>\n",
       "      <td>2017-05-08 12:40:00</td>\n",
       "      <td>NaT</td>\n",
       "      <td>1.0</td>\n",
       "      <td>2017-05</td>\n",
       "    </tr>\n",
       "    <tr>\n",
       "      <th>...</th>\n",
       "      <td>...</td>\n",
       "      <td>...</td>\n",
       "      <td>...</td>\n",
       "      <td>...</td>\n",
       "      <td>...</td>\n",
       "      <td>...</td>\n",
       "    </tr>\n",
       "    <tr>\n",
       "      <th>12335</th>\n",
       "      <td>5985</td>\n",
       "      <td>5</td>\n",
       "      <td>2017-06-17 15:00:47</td>\n",
       "      <td>NaT</td>\n",
       "      <td>4.0</td>\n",
       "      <td>2017-06</td>\n",
       "    </tr>\n",
       "    <tr>\n",
       "      <th>12337</th>\n",
       "      <td>5986</td>\n",
       "      <td>1</td>\n",
       "      <td>2017-06-27 17:45:07</td>\n",
       "      <td>NaT</td>\n",
       "      <td>5.0</td>\n",
       "      <td>2017-06</td>\n",
       "    </tr>\n",
       "    <tr>\n",
       "      <th>12339</th>\n",
       "      <td>5987</td>\n",
       "      <td>3</td>\n",
       "      <td>2017-05-23 13:07:57</td>\n",
       "      <td>NaT</td>\n",
       "      <td>5.0</td>\n",
       "      <td>2017-05</td>\n",
       "    </tr>\n",
       "    <tr>\n",
       "      <th>12341</th>\n",
       "      <td>5988</td>\n",
       "      <td>4</td>\n",
       "      <td>2017-05-22 16:36:56</td>\n",
       "      <td>NaT</td>\n",
       "      <td>1.0</td>\n",
       "      <td>2017-05</td>\n",
       "    </tr>\n",
       "    <tr>\n",
       "      <th>12343</th>\n",
       "      <td>5989</td>\n",
       "      <td>1</td>\n",
       "      <td>2017-05-25 20:12:33</td>\n",
       "      <td>NaT</td>\n",
       "      <td>5.0</td>\n",
       "      <td>2017-05</td>\n",
       "    </tr>\n",
       "  </tbody>\n",
       "</table>\n",
       "<p>6355 rows × 6 columns</p>\n",
       "</div>"
      ],
      "text/plain": [
       "       SUBSCRIBER_ID  TARIFF_PLAN_ID          START_DTTM END_DTTM  \\\n",
       "1                  1               3 2017-03-11 14:24:18      NaT   \n",
       "3                  2               5 2017-06-29 12:39:59      NaT   \n",
       "5                  3               5 2017-04-14 12:01:00      NaT   \n",
       "7                  4               5 2017-01-09 19:27:51      NaT   \n",
       "9                  5               5 2017-05-08 12:40:00      NaT   \n",
       "...              ...             ...                 ...      ...   \n",
       "12335           5985               5 2017-06-17 15:00:47      NaT   \n",
       "12337           5986               1 2017-06-27 17:45:07      NaT   \n",
       "12339           5987               3 2017-05-23 13:07:57      NaT   \n",
       "12341           5988               4 2017-05-22 16:36:56      NaT   \n",
       "12343           5989               1 2017-05-25 20:12:33      NaT   \n",
       "\n",
       "       PREV_TARIFF change_month  \n",
       "1              2.0      2017-03  \n",
       "3              1.0      2017-06  \n",
       "5              1.0      2017-04  \n",
       "7              3.0      2017-01  \n",
       "9              1.0      2017-05  \n",
       "...            ...          ...  \n",
       "12335          4.0      2017-06  \n",
       "12337          5.0      2017-06  \n",
       "12339          5.0      2017-05  \n",
       "12341          1.0      2017-05  \n",
       "12343          5.0      2017-05  \n",
       "\n",
       "[6355 rows x 6 columns]"
      ]
     },
     "execution_count": 74,
     "metadata": {},
     "output_type": "execute_result"
    }
   ],
   "source": [
    "transitions "
   ]
  },
  {
   "cell_type": "code",
   "execution_count": 4,
   "id": "26000ada",
   "metadata": {},
   "outputs": [
    {
     "data": {
      "text/html": [
       "<div>\n",
       "<style scoped>\n",
       "    .dataframe tbody tr th:only-of-type {\n",
       "        vertical-align: middle;\n",
       "    }\n",
       "\n",
       "    .dataframe tbody tr th {\n",
       "        vertical-align: top;\n",
       "    }\n",
       "\n",
       "    .dataframe thead th {\n",
       "        text-align: right;\n",
       "    }\n",
       "</style>\n",
       "<table border=\"1\" class=\"dataframe\">\n",
       "  <thead>\n",
       "    <tr style=\"text-align: right;\">\n",
       "      <th></th>\n",
       "      <th>SUBSCRIBER_ID</th>\n",
       "      <th>BILL_MONTH</th>\n",
       "      <th>CHARGES</th>\n",
       "    </tr>\n",
       "  </thead>\n",
       "  <tbody>\n",
       "    <tr>\n",
       "      <th>0</th>\n",
       "      <td>4741</td>\n",
       "      <td>2017-03-01</td>\n",
       "      <td>4.572</td>\n",
       "    </tr>\n",
       "    <tr>\n",
       "      <th>1</th>\n",
       "      <td>1754</td>\n",
       "      <td>2017-05-01</td>\n",
       "      <td>4.894</td>\n",
       "    </tr>\n",
       "    <tr>\n",
       "      <th>2</th>\n",
       "      <td>381</td>\n",
       "      <td>2017-01-01</td>\n",
       "      <td>6.670</td>\n",
       "    </tr>\n",
       "    <tr>\n",
       "      <th>3</th>\n",
       "      <td>5832</td>\n",
       "      <td>2016-12-01</td>\n",
       "      <td>4.299</td>\n",
       "    </tr>\n",
       "    <tr>\n",
       "      <th>4</th>\n",
       "      <td>5277</td>\n",
       "      <td>2017-03-01</td>\n",
       "      <td>1.610</td>\n",
       "    </tr>\n",
       "  </tbody>\n",
       "</table>\n",
       "</div>"
      ],
      "text/plain": [
       "   SUBSCRIBER_ID  BILL_MONTH  CHARGES\n",
       "0           4741  2017-03-01    4.572\n",
       "1           1754  2017-05-01    4.894\n",
       "2            381  2017-01-01    6.670\n",
       "3           5832  2016-12-01    4.299\n",
       "4           5277  2017-03-01    1.610"
      ]
     },
     "execution_count": 4,
     "metadata": {},
     "output_type": "execute_result"
    }
   ],
   "source": [
    "df_charges.head()\n"
   ]
  },
  {
   "cell_type": "code",
   "execution_count": 8,
   "id": "6b521228",
   "metadata": {},
   "outputs": [
    {
     "data": {
      "text/html": [
       "<div>\n",
       "<style scoped>\n",
       "    .dataframe tbody tr th:only-of-type {\n",
       "        vertical-align: middle;\n",
       "    }\n",
       "\n",
       "    .dataframe tbody tr th {\n",
       "        vertical-align: top;\n",
       "    }\n",
       "\n",
       "    .dataframe thead th {\n",
       "        text-align: right;\n",
       "    }\n",
       "</style>\n",
       "<table border=\"1\" class=\"dataframe\">\n",
       "  <thead>\n",
       "    <tr style=\"text-align: right;\">\n",
       "      <th></th>\n",
       "      <th>SUBSCRIBER_ID</th>\n",
       "      <th>TARIFF_PLAN_ID</th>\n",
       "      <th>START_DTTM</th>\n",
       "      <th>END_DTTM</th>\n",
       "      <th>BILL_MONTH</th>\n",
       "      <th>CHARGES</th>\n",
       "    </tr>\n",
       "  </thead>\n",
       "  <tbody>\n",
       "    <tr>\n",
       "      <th>0</th>\n",
       "      <td>1</td>\n",
       "      <td>2</td>\n",
       "      <td>2013-11-22 21:10:08</td>\n",
       "      <td>2017-03-11 14:24:17</td>\n",
       "      <td>2016-12-01</td>\n",
       "      <td>21.132</td>\n",
       "    </tr>\n",
       "    <tr>\n",
       "      <th>1</th>\n",
       "      <td>1</td>\n",
       "      <td>2</td>\n",
       "      <td>2013-11-22 21:10:08</td>\n",
       "      <td>2017-03-11 14:24:17</td>\n",
       "      <td>2017-10-01</td>\n",
       "      <td>20.464</td>\n",
       "    </tr>\n",
       "    <tr>\n",
       "      <th>2</th>\n",
       "      <td>1</td>\n",
       "      <td>2</td>\n",
       "      <td>2013-11-22 21:10:08</td>\n",
       "      <td>2017-03-11 14:24:17</td>\n",
       "      <td>2017-06-01</td>\n",
       "      <td>23.651</td>\n",
       "    </tr>\n",
       "    <tr>\n",
       "      <th>3</th>\n",
       "      <td>1</td>\n",
       "      <td>2</td>\n",
       "      <td>2013-11-22 21:10:08</td>\n",
       "      <td>2017-03-11 14:24:17</td>\n",
       "      <td>2016-09-01</td>\n",
       "      <td>24.964</td>\n",
       "    </tr>\n",
       "    <tr>\n",
       "      <th>4</th>\n",
       "      <td>1</td>\n",
       "      <td>2</td>\n",
       "      <td>2013-11-22 21:10:08</td>\n",
       "      <td>2017-03-11 14:24:17</td>\n",
       "      <td>2017-09-01</td>\n",
       "      <td>24.012</td>\n",
       "    </tr>\n",
       "  </tbody>\n",
       "</table>\n",
       "</div>"
      ],
      "text/plain": [
       "   SUBSCRIBER_ID  TARIFF_PLAN_ID           START_DTTM             END_DTTM  \\\n",
       "0              1               2  2013-11-22 21:10:08  2017-03-11 14:24:17   \n",
       "1              1               2  2013-11-22 21:10:08  2017-03-11 14:24:17   \n",
       "2              1               2  2013-11-22 21:10:08  2017-03-11 14:24:17   \n",
       "3              1               2  2013-11-22 21:10:08  2017-03-11 14:24:17   \n",
       "4              1               2  2013-11-22 21:10:08  2017-03-11 14:24:17   \n",
       "\n",
       "   BILL_MONTH  CHARGES  \n",
       "0  2016-12-01   21.132  \n",
       "1  2017-10-01   20.464  \n",
       "2  2017-06-01   23.651  \n",
       "3  2016-09-01   24.964  \n",
       "4  2017-09-01   24.012  "
      ]
     },
     "execution_count": 8,
     "metadata": {},
     "output_type": "execute_result"
    }
   ],
   "source": [
    "df_join = pd.merge(df_tariff,df_charges,how='inner',on='SUBSCRIBER_ID')\n",
    "df_join.head()"
   ]
  },
  {
   "cell_type": "code",
   "execution_count": null,
   "id": "e3d08de7",
   "metadata": {},
   "outputs": [
    {
     "data": {
      "text/plain": [
       "np.float64(1202977.7980000002)"
      ]
     },
     "execution_count": 9,
     "metadata": {},
     "output_type": "execute_result"
    }
   ],
   "source": [
    "df_join.loc[df_join['BILL_MONTH']>=df_join['END_DTTM'] and df_join['BILL_MONTH'] <= df_join['END_DTTM']].sum()"
   ]
  },
  {
   "cell_type": "code",
   "execution_count": 10,
   "id": "41e98b47",
   "metadata": {},
   "outputs": [
    {
     "data": {
      "text/plain": [
       "np.float64(544721.031)"
      ]
     },
     "execution_count": 10,
     "metadata": {},
     "output_type": "execute_result"
    }
   ],
   "source": [
    "df_join.loc[df_join['BILL_MONTH']<=df_join['END_DTTM'], 'CHARGES'].sum()"
   ]
  }
 ],
 "metadata": {
  "kernelspec": {
   "display_name": "a1_venv",
   "language": "python",
   "name": "python3"
  },
  "language_info": {
   "codemirror_mode": {
    "name": "ipython",
    "version": 3
   },
   "file_extension": ".py",
   "mimetype": "text/x-python",
   "name": "python",
   "nbconvert_exporter": "python",
   "pygments_lexer": "ipython3",
   "version": "3.10.0"
  }
 },
 "nbformat": 4,
 "nbformat_minor": 5
}
