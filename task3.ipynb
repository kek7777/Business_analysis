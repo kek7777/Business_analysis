{
 "cells": [
  {
   "cell_type": "code",
   "execution_count": 1,
   "id": "89f56307",
   "metadata": {},
   "outputs": [],
   "source": [
    "import pandas as pd\n",
    "import matplotlib.pyplot as plt"
   ]
  },
  {
   "cell_type": "code",
   "execution_count": null,
   "id": "b46e62fa",
   "metadata": {},
   "outputs": [],
   "source": [
    "df_tariff = pd.read_csv((r\"C:\\Users\\Admin\\WORK\\Time_series_analysis\\src\\data\\Tariff_plans_change.csv\"))\n",
    "df_charges = pd.read_csv((r\"C:\\Users\\Admin\\WORK\\Time_series_analysis\\src\\data\\Charges.csv\"))\n",
    "df_suspended = pd.read_csv((r\"C:\\Users\\Admin\\WORK\\Time_series_analysis\\src\\data\\Suspended.csv\"))"
   ]
  },
  {
   "cell_type": "code",
   "execution_count": 41,
   "id": "86421687",
   "metadata": {},
   "outputs": [
    {
     "name": "stdout",
     "output_type": "stream",
     "text": [
      "   SUBSCRIBER_ID  TARIFF_PLAN_ID          START_DTTM            END_DTTM\n",
      "0              1               2 2013-11-22 21:10:08 2017-03-11 14:24:17\n",
      "1              1               3 2017-03-11 14:24:18                 NaT\n",
      "2              2               1 2016-02-05 16:36:34 2017-06-29 12:39:58\n",
      "3              2               5 2017-06-29 12:39:59                 NaT\n",
      "4              3               1 2015-05-06 19:17:46 2017-04-14 12:00:59\n",
      "   SUBSCRIBER_ID  BILL_MONTH  CHARGES\n",
      "0           4741  2017-03-01    4.572\n",
      "1           1754  2017-05-01    4.894\n",
      "2            381  2017-01-01    6.670\n",
      "3           5832  2016-12-01    4.299\n",
      "4           5277  2017-03-01    1.610\n",
      "   SUBSCRIBER_ID    START_DT      END_DT     STATUS\n",
      "0           5195  2017-12-27  2017-12-27  Suspended\n",
      "1           5198  2017-04-18  2017-04-18  Suspended\n",
      "2            381  2017-04-18  2017-04-20  Suspended\n",
      "3           3500  2017-12-21      $null$  Suspended\n",
      "4           3302  2016-08-23  2016-09-07  Suspended\n"
     ]
    }
   ],
   "source": [
    "print(df_tariff.head())\n",
    "print(df_charges.head())\n",
    "print(df_suspended.head())\n"
   ]
  },
  {
   "cell_type": "code",
   "execution_count": null,
   "id": "4b1bfe90",
   "metadata": {},
   "outputs": [
    {
     "name": "stdout",
     "output_type": "stream",
     "text": [
      "<class 'pandas.core.frame.DataFrame'>\n",
      "RangeIndex: 12344 entries, 0 to 12343\n",
      "Data columns (total 4 columns):\n",
      " #   Column          Non-Null Count  Dtype \n",
      "---  ------          --------------  ----- \n",
      " 0   SUBSCRIBER_ID   12344 non-null  int64 \n",
      " 1   TARIFF_PLAN_ID  12344 non-null  int64 \n",
      " 2   START_DTTM      12344 non-null  object\n",
      " 3   END_DTTM        12344 non-null  object\n",
      "dtypes: int64(2), object(2)\n",
      "memory usage: 385.9+ KB\n",
      "None\n",
      "<class 'pandas.core.frame.DataFrame'>\n",
      "RangeIndex: 112595 entries, 0 to 112594\n",
      "Data columns (total 3 columns):\n",
      " #   Column         Non-Null Count   Dtype  \n",
      "---  ------         --------------   -----  \n",
      " 0   SUBSCRIBER_ID  112595 non-null  int64  \n",
      " 1   BILL_MONTH     112595 non-null  object \n",
      " 2   CHARGES        112595 non-null  float64\n",
      "dtypes: float64(1), int64(1), object(1)\n",
      "memory usage: 2.6+ MB\n",
      "None\n",
      "<class 'pandas.core.frame.DataFrame'>\n",
      "RangeIndex: 4063 entries, 0 to 4062\n",
      "Data columns (total 4 columns):\n",
      " #   Column         Non-Null Count  Dtype \n",
      "---  ------         --------------  ----- \n",
      " 0   SUBSCRIBER_ID  4063 non-null   int64 \n",
      " 1   START_DT       4063 non-null   object\n",
      " 2   END_DT         4063 non-null   object\n",
      " 3   STATUS         4063 non-null   object\n",
      "dtypes: int64(1), object(3)\n",
      "memory usage: 127.1+ KB\n",
      "None\n"
     ]
    }
   ],
   "source": [
    "print(df_tariff.info())\n",
    "print(df_charges.info())\n",
    "print(df_suspended.info())"
   ]
  },
  {
   "cell_type": "code",
   "execution_count": null,
   "id": "21ef0b7d",
   "metadata": {},
   "outputs": [
    {
     "name": "stdout",
     "output_type": "stream",
     "text": [
      "   SUBSCRIBER_ID  TARIFF_PLAN_ID          START_DTTM            END_DTTM\n",
      "0              1               2 2013-11-22 21:10:08 2017-03-11 14:24:17\n",
      "1              1               3 2017-03-11 14:24:18                 NaT\n",
      "2              2               1 2016-02-05 16:36:34 2017-06-29 12:39:58\n",
      "3              2               5 2017-06-29 12:39:59                 NaT\n",
      "4              3               1 2015-05-06 19:17:46 2017-04-14 12:00:59\n",
      "5              3               5 2017-04-14 12:01:00                 NaT\n",
      "6              4               3 2016-01-27 23:03:51 2017-01-09 19:27:50\n",
      "7              4               5 2017-01-09 19:27:51                 NaT\n",
      "8              5               1 2016-02-06 08:07:15 2017-05-08 12:39:59\n",
      "9              5               5 2017-05-08 12:40:00                 NaT\n",
      "   SUBSCRIBER_ID  BILL_MONTH  CHARGES\n",
      "0           4741  2017-03-01    4.572\n",
      "1           1754  2017-05-01    4.894\n",
      "2            381  2017-01-01    6.670\n",
      "3           5832  2016-12-01    4.299\n",
      "4           5277  2017-03-01    1.610\n",
      "5           4512  2017-02-01    3.220\n",
      "6           1688  2017-05-01    7.391\n",
      "7           3204  2017-10-01    2.456\n",
      "8           1277  2016-08-01   11.242\n",
      "9           5424  2017-04-01   26.986\n"
     ]
    }
   ],
   "source": [
    "print(df_tariff.head(10))\n",
    "print(df_charges.head(10))\n"
   ]
  },
  {
   "cell_type": "code",
   "execution_count": 5,
   "id": "bc48d141",
   "metadata": {},
   "outputs": [
    {
     "data": {
      "text/plain": [
       "array([2, 3, 1, 5, 4])"
      ]
     },
     "execution_count": 5,
     "metadata": {},
     "output_type": "execute_result"
    }
   ],
   "source": [
    "# count tafiff\n",
    "df_tariff['TARIFF_PLAN_ID'].unique()"
   ]
  },
  {
   "cell_type": "code",
   "execution_count": 42,
   "id": "686a683f",
   "metadata": {},
   "outputs": [],
   "source": [
    "# Change type to datetime\n",
    "df_tariff['START_DTTM'] = pd.to_datetime(df_tariff['START_DTTM'])\n",
    "df_tariff['END_DTTM'] = pd.to_datetime(df_tariff['END_DTTM'], errors='coerce')  # '$null$'  to   NaT\n",
    "df_charges['BILL_MONTH'] = pd.to_datetime(df_charges['BILL_MONTH'])\n",
    "df_suspended['END_DT'] = pd.to_datetime(df_suspended['END_DT'], errors='coerce')  # '$null$'  to   NaT\n",
    "df_suspended['START_DT'] = pd.to_datetime(df_suspended['START_DT'])"
   ]
  },
  {
   "cell_type": "code",
   "execution_count": 77,
   "id": "dc50d7fe",
   "metadata": {},
   "outputs": [
    {
     "name": "stdout",
     "output_type": "stream",
     "text": [
      "    FROM_TARIFF  TO_TARIFF  COUNT\n",
      "0             1          1      9\n",
      "1             1          2      5\n",
      "2             1          3     55\n",
      "3             1          4    378\n",
      "4             1          5   1613\n",
      "5             2          1     13\n",
      "6             2          3     20\n",
      "7             2          4    158\n",
      "8             2          5    417\n",
      "9             3          1     28\n",
      "10            3          2     12\n",
      "11            3          3     21\n",
      "12            3          4    367\n",
      "13            3          5   2372\n",
      "14            4          1     37\n",
      "15            4          2     20\n",
      "16            4          3     56\n",
      "17            4          4      8\n",
      "18            4          5    528\n",
      "19            5          1     81\n",
      "20            5          2      4\n",
      "21            5          3     75\n",
      "22            5          4     49\n",
      "23            5          5     29\n"
     ]
    }
   ],
   "source": [
    "\n",
    "\n",
    "df = df_tariff.sort_values(['SUBSCRIBER_ID', 'START_DTTM'])                        # sort\n",
    "\n",
    "df['PREV_TARIFF'] = df.groupby('SUBSCRIBER_ID')['TARIFF_PLAN_ID'].shift(1)        #  make previous value tarif for everything SUBSCRIBE\n",
    "\n",
    "transitions = df.dropna(subset=['PREV_TARIFF'])                                    # delete NAN in first row of \"PREV_TARIFF\" \n",
    "transition_counts = transitions.groupby(['PREV_TARIFF', 'TARIFF_PLAN_ID']).size().reset_index(name='COUNT')    # Count (From → To)\n",
    "\n",
    "transition_counts.columns = ['FROM_TARIFF', 'TO_TARIFF', 'COUNT']\n",
    "transition_counts['FROM_TARIFF'] = transition_counts['FROM_TARIFF'].astype(int)\n",
    "\n",
    "print(transition_counts)\n"
   ]
  },
  {
   "cell_type": "code",
   "execution_count": 35,
   "id": "16909e3b",
   "metadata": {},
   "outputs": [
    {
     "data": {
      "application/vnd.plotly.v1+json": {
       "config": {
        "plotlyServerURL": "https://plot.ly"
       },
       "data": [
        {
         "link": {
          "source": {
           "bdata": "AAAAAAABAQEBAgICAgIDAwMDAwQEBAQE",
           "dtype": "i1"
          },
          "target": {
           "bdata": "AAECAwQAAgMEAAECAwQAAQIDBAABAgME",
           "dtype": "i1"
          },
          "value": {
           "bdata": "CQAFADcAegFNBg0AFACeAKEBHAAMABUAbwFECSUAFAA4AAgAEAJRAAQASwAxAB0A",
           "dtype": "i2"
          }
         },
         "node": {
          "label": [
           "Tariff 1",
           "Tariff 2",
           "Tariff 3",
           "Tariff 4",
           "Tariff 5"
          ]
         },
         "type": "sankey"
        }
       ],
       "layout": {
        "template": {
         "data": {
          "bar": [
           {
            "error_x": {
             "color": "#2a3f5f"
            },
            "error_y": {
             "color": "#2a3f5f"
            },
            "marker": {
             "line": {
              "color": "#E5ECF6",
              "width": 0.5
             },
             "pattern": {
              "fillmode": "overlay",
              "size": 10,
              "solidity": 0.2
             }
            },
            "type": "bar"
           }
          ],
          "barpolar": [
           {
            "marker": {
             "line": {
              "color": "#E5ECF6",
              "width": 0.5
             },
             "pattern": {
              "fillmode": "overlay",
              "size": 10,
              "solidity": 0.2
             }
            },
            "type": "barpolar"
           }
          ],
          "carpet": [
           {
            "aaxis": {
             "endlinecolor": "#2a3f5f",
             "gridcolor": "white",
             "linecolor": "white",
             "minorgridcolor": "white",
             "startlinecolor": "#2a3f5f"
            },
            "baxis": {
             "endlinecolor": "#2a3f5f",
             "gridcolor": "white",
             "linecolor": "white",
             "minorgridcolor": "white",
             "startlinecolor": "#2a3f5f"
            },
            "type": "carpet"
           }
          ],
          "choropleth": [
           {
            "colorbar": {
             "outlinewidth": 0,
             "ticks": ""
            },
            "type": "choropleth"
           }
          ],
          "contour": [
           {
            "colorbar": {
             "outlinewidth": 0,
             "ticks": ""
            },
            "colorscale": [
             [
              0,
              "#0d0887"
             ],
             [
              0.1111111111111111,
              "#46039f"
             ],
             [
              0.2222222222222222,
              "#7201a8"
             ],
             [
              0.3333333333333333,
              "#9c179e"
             ],
             [
              0.4444444444444444,
              "#bd3786"
             ],
             [
              0.5555555555555556,
              "#d8576b"
             ],
             [
              0.6666666666666666,
              "#ed7953"
             ],
             [
              0.7777777777777778,
              "#fb9f3a"
             ],
             [
              0.8888888888888888,
              "#fdca26"
             ],
             [
              1,
              "#f0f921"
             ]
            ],
            "type": "contour"
           }
          ],
          "contourcarpet": [
           {
            "colorbar": {
             "outlinewidth": 0,
             "ticks": ""
            },
            "type": "contourcarpet"
           }
          ],
          "heatmap": [
           {
            "colorbar": {
             "outlinewidth": 0,
             "ticks": ""
            },
            "colorscale": [
             [
              0,
              "#0d0887"
             ],
             [
              0.1111111111111111,
              "#46039f"
             ],
             [
              0.2222222222222222,
              "#7201a8"
             ],
             [
              0.3333333333333333,
              "#9c179e"
             ],
             [
              0.4444444444444444,
              "#bd3786"
             ],
             [
              0.5555555555555556,
              "#d8576b"
             ],
             [
              0.6666666666666666,
              "#ed7953"
             ],
             [
              0.7777777777777778,
              "#fb9f3a"
             ],
             [
              0.8888888888888888,
              "#fdca26"
             ],
             [
              1,
              "#f0f921"
             ]
            ],
            "type": "heatmap"
           }
          ],
          "histogram": [
           {
            "marker": {
             "pattern": {
              "fillmode": "overlay",
              "size": 10,
              "solidity": 0.2
             }
            },
            "type": "histogram"
           }
          ],
          "histogram2d": [
           {
            "colorbar": {
             "outlinewidth": 0,
             "ticks": ""
            },
            "colorscale": [
             [
              0,
              "#0d0887"
             ],
             [
              0.1111111111111111,
              "#46039f"
             ],
             [
              0.2222222222222222,
              "#7201a8"
             ],
             [
              0.3333333333333333,
              "#9c179e"
             ],
             [
              0.4444444444444444,
              "#bd3786"
             ],
             [
              0.5555555555555556,
              "#d8576b"
             ],
             [
              0.6666666666666666,
              "#ed7953"
             ],
             [
              0.7777777777777778,
              "#fb9f3a"
             ],
             [
              0.8888888888888888,
              "#fdca26"
             ],
             [
              1,
              "#f0f921"
             ]
            ],
            "type": "histogram2d"
           }
          ],
          "histogram2dcontour": [
           {
            "colorbar": {
             "outlinewidth": 0,
             "ticks": ""
            },
            "colorscale": [
             [
              0,
              "#0d0887"
             ],
             [
              0.1111111111111111,
              "#46039f"
             ],
             [
              0.2222222222222222,
              "#7201a8"
             ],
             [
              0.3333333333333333,
              "#9c179e"
             ],
             [
              0.4444444444444444,
              "#bd3786"
             ],
             [
              0.5555555555555556,
              "#d8576b"
             ],
             [
              0.6666666666666666,
              "#ed7953"
             ],
             [
              0.7777777777777778,
              "#fb9f3a"
             ],
             [
              0.8888888888888888,
              "#fdca26"
             ],
             [
              1,
              "#f0f921"
             ]
            ],
            "type": "histogram2dcontour"
           }
          ],
          "mesh3d": [
           {
            "colorbar": {
             "outlinewidth": 0,
             "ticks": ""
            },
            "type": "mesh3d"
           }
          ],
          "parcoords": [
           {
            "line": {
             "colorbar": {
              "outlinewidth": 0,
              "ticks": ""
             }
            },
            "type": "parcoords"
           }
          ],
          "pie": [
           {
            "automargin": true,
            "type": "pie"
           }
          ],
          "scatter": [
           {
            "fillpattern": {
             "fillmode": "overlay",
             "size": 10,
             "solidity": 0.2
            },
            "type": "scatter"
           }
          ],
          "scatter3d": [
           {
            "line": {
             "colorbar": {
              "outlinewidth": 0,
              "ticks": ""
             }
            },
            "marker": {
             "colorbar": {
              "outlinewidth": 0,
              "ticks": ""
             }
            },
            "type": "scatter3d"
           }
          ],
          "scattercarpet": [
           {
            "marker": {
             "colorbar": {
              "outlinewidth": 0,
              "ticks": ""
             }
            },
            "type": "scattercarpet"
           }
          ],
          "scattergeo": [
           {
            "marker": {
             "colorbar": {
              "outlinewidth": 0,
              "ticks": ""
             }
            },
            "type": "scattergeo"
           }
          ],
          "scattergl": [
           {
            "marker": {
             "colorbar": {
              "outlinewidth": 0,
              "ticks": ""
             }
            },
            "type": "scattergl"
           }
          ],
          "scattermap": [
           {
            "marker": {
             "colorbar": {
              "outlinewidth": 0,
              "ticks": ""
             }
            },
            "type": "scattermap"
           }
          ],
          "scattermapbox": [
           {
            "marker": {
             "colorbar": {
              "outlinewidth": 0,
              "ticks": ""
             }
            },
            "type": "scattermapbox"
           }
          ],
          "scatterpolar": [
           {
            "marker": {
             "colorbar": {
              "outlinewidth": 0,
              "ticks": ""
             }
            },
            "type": "scatterpolar"
           }
          ],
          "scatterpolargl": [
           {
            "marker": {
             "colorbar": {
              "outlinewidth": 0,
              "ticks": ""
             }
            },
            "type": "scatterpolargl"
           }
          ],
          "scatterternary": [
           {
            "marker": {
             "colorbar": {
              "outlinewidth": 0,
              "ticks": ""
             }
            },
            "type": "scatterternary"
           }
          ],
          "surface": [
           {
            "colorbar": {
             "outlinewidth": 0,
             "ticks": ""
            },
            "colorscale": [
             [
              0,
              "#0d0887"
             ],
             [
              0.1111111111111111,
              "#46039f"
             ],
             [
              0.2222222222222222,
              "#7201a8"
             ],
             [
              0.3333333333333333,
              "#9c179e"
             ],
             [
              0.4444444444444444,
              "#bd3786"
             ],
             [
              0.5555555555555556,
              "#d8576b"
             ],
             [
              0.6666666666666666,
              "#ed7953"
             ],
             [
              0.7777777777777778,
              "#fb9f3a"
             ],
             [
              0.8888888888888888,
              "#fdca26"
             ],
             [
              1,
              "#f0f921"
             ]
            ],
            "type": "surface"
           }
          ],
          "table": [
           {
            "cells": {
             "fill": {
              "color": "#EBF0F8"
             },
             "line": {
              "color": "white"
             }
            },
            "header": {
             "fill": {
              "color": "#C8D4E3"
             },
             "line": {
              "color": "white"
             }
            },
            "type": "table"
           }
          ]
         },
         "layout": {
          "annotationdefaults": {
           "arrowcolor": "#2a3f5f",
           "arrowhead": 0,
           "arrowwidth": 1
          },
          "autotypenumbers": "strict",
          "coloraxis": {
           "colorbar": {
            "outlinewidth": 0,
            "ticks": ""
           }
          },
          "colorscale": {
           "diverging": [
            [
             0,
             "#8e0152"
            ],
            [
             0.1,
             "#c51b7d"
            ],
            [
             0.2,
             "#de77ae"
            ],
            [
             0.3,
             "#f1b6da"
            ],
            [
             0.4,
             "#fde0ef"
            ],
            [
             0.5,
             "#f7f7f7"
            ],
            [
             0.6,
             "#e6f5d0"
            ],
            [
             0.7,
             "#b8e186"
            ],
            [
             0.8,
             "#7fbc41"
            ],
            [
             0.9,
             "#4d9221"
            ],
            [
             1,
             "#276419"
            ]
           ],
           "sequential": [
            [
             0,
             "#0d0887"
            ],
            [
             0.1111111111111111,
             "#46039f"
            ],
            [
             0.2222222222222222,
             "#7201a8"
            ],
            [
             0.3333333333333333,
             "#9c179e"
            ],
            [
             0.4444444444444444,
             "#bd3786"
            ],
            [
             0.5555555555555556,
             "#d8576b"
            ],
            [
             0.6666666666666666,
             "#ed7953"
            ],
            [
             0.7777777777777778,
             "#fb9f3a"
            ],
            [
             0.8888888888888888,
             "#fdca26"
            ],
            [
             1,
             "#f0f921"
            ]
           ],
           "sequentialminus": [
            [
             0,
             "#0d0887"
            ],
            [
             0.1111111111111111,
             "#46039f"
            ],
            [
             0.2222222222222222,
             "#7201a8"
            ],
            [
             0.3333333333333333,
             "#9c179e"
            ],
            [
             0.4444444444444444,
             "#bd3786"
            ],
            [
             0.5555555555555556,
             "#d8576b"
            ],
            [
             0.6666666666666666,
             "#ed7953"
            ],
            [
             0.7777777777777778,
             "#fb9f3a"
            ],
            [
             0.8888888888888888,
             "#fdca26"
            ],
            [
             1,
             "#f0f921"
            ]
           ]
          },
          "colorway": [
           "#636efa",
           "#EF553B",
           "#00cc96",
           "#ab63fa",
           "#FFA15A",
           "#19d3f3",
           "#FF6692",
           "#B6E880",
           "#FF97FF",
           "#FECB52"
          ],
          "font": {
           "color": "#2a3f5f"
          },
          "geo": {
           "bgcolor": "white",
           "lakecolor": "white",
           "landcolor": "#E5ECF6",
           "showlakes": true,
           "showland": true,
           "subunitcolor": "white"
          },
          "hoverlabel": {
           "align": "left"
          },
          "hovermode": "closest",
          "mapbox": {
           "style": "light"
          },
          "paper_bgcolor": "white",
          "plot_bgcolor": "#E5ECF6",
          "polar": {
           "angularaxis": {
            "gridcolor": "white",
            "linecolor": "white",
            "ticks": ""
           },
           "bgcolor": "#E5ECF6",
           "radialaxis": {
            "gridcolor": "white",
            "linecolor": "white",
            "ticks": ""
           }
          },
          "scene": {
           "xaxis": {
            "backgroundcolor": "#E5ECF6",
            "gridcolor": "white",
            "gridwidth": 2,
            "linecolor": "white",
            "showbackground": true,
            "ticks": "",
            "zerolinecolor": "white"
           },
           "yaxis": {
            "backgroundcolor": "#E5ECF6",
            "gridcolor": "white",
            "gridwidth": 2,
            "linecolor": "white",
            "showbackground": true,
            "ticks": "",
            "zerolinecolor": "white"
           },
           "zaxis": {
            "backgroundcolor": "#E5ECF6",
            "gridcolor": "white",
            "gridwidth": 2,
            "linecolor": "white",
            "showbackground": true,
            "ticks": "",
            "zerolinecolor": "white"
           }
          },
          "shapedefaults": {
           "line": {
            "color": "#2a3f5f"
           }
          },
          "ternary": {
           "aaxis": {
            "gridcolor": "white",
            "linecolor": "white",
            "ticks": ""
           },
           "baxis": {
            "gridcolor": "white",
            "linecolor": "white",
            "ticks": ""
           },
           "bgcolor": "#E5ECF6",
           "caxis": {
            "gridcolor": "white",
            "linecolor": "white",
            "ticks": ""
           }
          },
          "title": {
           "x": 0.05
          },
          "xaxis": {
           "automargin": true,
           "gridcolor": "white",
           "linecolor": "white",
           "ticks": "",
           "title": {
            "standoff": 15
           },
           "zerolinecolor": "white",
           "zerolinewidth": 2
          },
          "yaxis": {
           "automargin": true,
           "gridcolor": "white",
           "linecolor": "white",
           "ticks": "",
           "title": {
            "standoff": 15
           },
           "zerolinecolor": "white",
           "zerolinewidth": 2
          }
         }
        }
       }
      }
     },
     "metadata": {},
     "output_type": "display_data"
    }
   ],
   "source": [
    "import plotly.graph_objects as go\n",
    "\n",
    "fig = go.Figure(go.Sankey(\n",
    "    node=dict(label=[\"Tariff 1\", \"Tariff 2\", \"Tariff 3\", \"Tariff 4\", \"Tariff 5\"]),\n",
    "    link=dict(\n",
    "        source=transition_counts['FROM_TARIFF'] - 1,  # Индексы начинаются с 0\n",
    "        target=transition_counts['TO_TARIFF'] - 1,\n",
    "        value=transition_counts['COUNT']\n",
    "    )\n",
    "))\n",
    "fig.show()\n",
    "\n"
   ]
  },
  {
   "cell_type": "code",
   "execution_count": 36,
   "id": "739421bd",
   "metadata": {},
   "outputs": [
    {
     "data": {
      "image/png": "[encoded data removed]",
      "text/plain": [
       "<Figure size 800x600 with 2 Axes>"
      ]
     },
     "metadata": {},
     "output_type": "display_data"
    }
   ],
   "source": [
    "import seaborn as sns\n",
    "import matplotlib.pyplot as plt\n",
    "\n",
    "# Создаем матрицу переходов\n",
    "transition_matrix = pd.crosstab(\n",
    "    index=transition_counts['FROM_TARIFF'], \n",
    "    columns=transition_counts['TO_TARIFF'],\n",
    "    values=transition_counts['COUNT'], \n",
    "    aggfunc='sum'\n",
    ").fillna(0)\n",
    "\n",
    "# Визуализация\n",
    "plt.figure(figsize=(8, 6))\n",
    "sns.heatmap(transition_matrix, annot=True, fmt='g', cmap='Greens')\n",
    "plt.title('Matrix of transitions between tariffs')\n",
    "plt.xlabel('Tarrif (To)')\n",
    "plt.ylabel('Tarrif (From)')\n",
    "plt.show()"
   ]
  },
  {
   "cell_type": "code",
   "execution_count": null,
   "id": "f2e3981d",
   "metadata": {},
   "outputs": [],
   "source": []
  },
  {
   "cell_type": "code",
   "execution_count": null,
   "id": "c60c7351",
   "metadata": {},
   "outputs": [],
   "source": []
  },
  {
   "cell_type": "code",
   "execution_count": null,
   "id": "a18e2555",
   "metadata": {},
   "outputs": [],
   "source": []
  },
  {
   "cell_type": "code",
   "execution_count": null,
   "id": "79abecda",
   "metadata": {},
   "outputs": [
    {
     "data": {
      "text/html": [
       "<div>\n",
       "<style scoped>\n",
       "    .dataframe tbody tr th:only-of-type {\n",
       "        vertical-align: middle;\n",
       "    }\n",
       "\n",
       "    .dataframe tbody tr th {\n",
       "        vertical-align: top;\n",
       "    }\n",
       "\n",
       "    .dataframe thead th {\n",
       "        text-align: right;\n",
       "    }\n",
       "</style>\n",
       "<table border=\"1\" class=\"dataframe\">\n",
       "  <thead>\n",
       "    <tr style=\"text-align: right;\">\n",
       "      <th></th>\n",
       "      <th>SUBSCRIBER_ID</th>\n",
       "      <th>TARIFF_PLAN_ID</th>\n",
       "      <th>START_DTTM</th>\n",
       "      <th>END_DTTM</th>\n",
       "      <th>PREV_TARIFF</th>\n",
       "      <th>change_month</th>\n",
       "    </tr>\n",
       "  </thead>\n",
       "  <tbody>\n",
       "    <tr>\n",
       "      <th>0</th>\n",
       "      <td>1</td>\n",
       "      <td>2</td>\n",
       "      <td>2013-11-22 21:10:08</td>\n",
       "      <td>2017-03-11 14:24:17</td>\n",
       "      <td>NaN</td>\n",
       "      <td>2013-11</td>\n",
       "    </tr>\n",
       "    <tr>\n",
       "      <th>1</th>\n",
       "      <td>1</td>\n",
       "      <td>3</td>\n",
       "      <td>2017-03-11 14:24:18</td>\n",
       "      <td>NaT</td>\n",
       "      <td>2.0</td>\n",
       "      <td>2017-03</td>\n",
       "    </tr>\n",
       "    <tr>\n",
       "      <th>2</th>\n",
       "      <td>2</td>\n",
       "      <td>1</td>\n",
       "      <td>2016-02-05 16:36:34</td>\n",
       "      <td>2017-06-29 12:39:58</td>\n",
       "      <td>NaN</td>\n",
       "      <td>2016-02</td>\n",
       "    </tr>\n",
       "    <tr>\n",
       "      <th>3</th>\n",
       "      <td>2</td>\n",
       "      <td>5</td>\n",
       "      <td>2017-06-29 12:39:59</td>\n",
       "      <td>NaT</td>\n",
       "      <td>1.0</td>\n",
       "      <td>2017-06</td>\n",
       "    </tr>\n",
       "    <tr>\n",
       "      <th>4</th>\n",
       "      <td>3</td>\n",
       "      <td>1</td>\n",
       "      <td>2015-05-06 19:17:46</td>\n",
       "      <td>2017-04-14 12:00:59</td>\n",
       "      <td>NaN</td>\n",
       "      <td>2015-05</td>\n",
       "    </tr>\n",
       "    <tr>\n",
       "      <th>...</th>\n",
       "      <td>...</td>\n",
       "      <td>...</td>\n",
       "      <td>...</td>\n",
       "      <td>...</td>\n",
       "      <td>...</td>\n",
       "      <td>...</td>\n",
       "    </tr>\n",
       "    <tr>\n",
       "      <th>12339</th>\n",
       "      <td>5987</td>\n",
       "      <td>3</td>\n",
       "      <td>2017-05-23 13:07:57</td>\n",
       "      <td>NaT</td>\n",
       "      <td>5.0</td>\n",
       "      <td>2017-05</td>\n",
       "    </tr>\n",
       "    <tr>\n",
       "      <th>12340</th>\n",
       "      <td>5988</td>\n",
       "      <td>1</td>\n",
       "      <td>2017-05-10 10:36:53</td>\n",
       "      <td>2017-05-22 16:36:55</td>\n",
       "      <td>NaN</td>\n",
       "      <td>2017-05</td>\n",
       "    </tr>\n",
       "    <tr>\n",
       "      <th>12341</th>\n",
       "      <td>5988</td>\n",
       "      <td>4</td>\n",
       "      <td>2017-05-22 16:36:56</td>\n",
       "      <td>NaT</td>\n",
       "      <td>1.0</td>\n",
       "      <td>2017-05</td>\n",
       "    </tr>\n",
       "    <tr>\n",
       "      <th>12342</th>\n",
       "      <td>5989</td>\n",
       "      <td>5</td>\n",
       "      <td>2017-05-24 14:46:11</td>\n",
       "      <td>2017-05-25 20:12:32</td>\n",
       "      <td>NaN</td>\n",
       "      <td>2017-05</td>\n",
       "    </tr>\n",
       "    <tr>\n",
       "      <th>12343</th>\n",
       "      <td>5989</td>\n",
       "      <td>1</td>\n",
       "      <td>2017-05-25 20:12:33</td>\n",
       "      <td>NaT</td>\n",
       "      <td>5.0</td>\n",
       "      <td>2017-05</td>\n",
       "    </tr>\n",
       "  </tbody>\n",
       "</table>\n",
       "<p>12344 rows × 6 columns</p>\n",
       "</div>"
      ],
      "text/plain": [
       "       SUBSCRIBER_ID  TARIFF_PLAN_ID          START_DTTM            END_DTTM  \\\n",
       "0                  1               2 2013-11-22 21:10:08 2017-03-11 14:24:17   \n",
       "1                  1               3 2017-03-11 14:24:18                 NaT   \n",
       "2                  2               1 2016-02-05 16:36:34 2017-06-29 12:39:58   \n",
       "3                  2               5 2017-06-29 12:39:59                 NaT   \n",
       "4                  3               1 2015-05-06 19:17:46 2017-04-14 12:00:59   \n",
       "...              ...             ...                 ...                 ...   \n",
       "12339           5987               3 2017-05-23 13:07:57                 NaT   \n",
       "12340           5988               1 2017-05-10 10:36:53 2017-05-22 16:36:55   \n",
       "12341           5988               4 2017-05-22 16:36:56                 NaT   \n",
       "12342           5989               5 2017-05-24 14:46:11 2017-05-25 20:12:32   \n",
       "12343           5989               1 2017-05-25 20:12:33                 NaT   \n",
       "\n",
       "       PREV_TARIFF change_month  \n",
       "0              NaN      2013-11  \n",
       "1              2.0      2017-03  \n",
       "2              NaN      2016-02  \n",
       "3              1.0      2017-06  \n",
       "4              NaN      2015-05  \n",
       "...            ...          ...  \n",
       "12339          5.0      2017-05  \n",
       "12340          NaN      2017-05  \n",
       "12341          1.0      2017-05  \n",
       "12342          NaN      2017-05  \n",
       "12343          5.0      2017-05  \n",
       "\n",
       "[12344 rows x 6 columns]"
      ]
     },
     "execution_count": 73,
     "metadata": {},
     "output_type": "execute_result"
    }
   ],
   "source": [
    "df['change_month'] = df['START_DTTM'].dt.to_period('M')     #changes format (yyyy-mm-dd) to (yyyy-mm)\n",
    "transitions = df.dropna(subset=['PREV_TARIFF']).copy()      # delete Nan   \n",
    "df\n"
   ]
  },
  {
   "cell_type": "code",
   "execution_count": 74,
   "id": "16ff2969",
   "metadata": {},
   "outputs": [
    {
     "data": {
      "text/html": [
       "<div>\n",
       "<style scoped>\n",
       "    .dataframe tbody tr th:only-of-type {\n",
       "        vertical-align: middle;\n",
       "    }\n",
       "\n",
       "    .dataframe tbody tr th {\n",
       "        vertical-align: top;\n",
       "    }\n",
       "\n",
       "    .dataframe thead th {\n",
       "        text-align: right;\n",
       "    }\n",
       "</style>\n",
       "<table border=\"1\" class=\"dataframe\">\n",
       "  <thead>\n",
       "    <tr style=\"text-align: right;\">\n",
       "      <th></th>\n",
       "      <th>SUBSCRIBER_ID</th>\n",
       "      <th>TARIFF_PLAN_ID</th>\n",
       "      <th>START_DTTM</th>\n",
       "      <th>END_DTTM</th>\n",
       "      <th>PREV_TARIFF</th>\n",
       "      <th>change_month</th>\n",
       "    </tr>\n",
       "  </thead>\n",
       "  <tbody>\n",
       "    <tr>\n",
       "      <th>1</th>\n",
       "      <td>1</td>\n",
       "      <td>3</td>\n",
       "      <td>2017-03-11 14:24:18</td>\n",
       "      <td>NaT</td>\n",
       "      <td>2.0</td>\n",
       "      <td>2017-03</td>\n",
       "    </tr>\n",
       "    <tr>\n",
       "      <th>3</th>\n",
       "      <td>2</td>\n",
       "      <td>5</td>\n",
       "      <td>2017-06-29 12:39:59</td>\n",
       "      <td>NaT</td>\n",
       "      <td>1.0</td>\n",
       "      <td>2017-06</td>\n",
       "    </tr>\n",
       "    <tr>\n",
       "      <th>5</th>\n",
       "      <td>3</td>\n",
       "      <td>5</td>\n",
       "      <td>2017-04-14 12:01:00</td>\n",
       "      <td>NaT</td>\n",
       "      <td>1.0</td>\n",
       "      <td>2017-04</td>\n",
       "    </tr>\n",
       "    <tr>\n",
       "      <th>7</th>\n",
       "      <td>4</td>\n",
       "      <td>5</td>\n",
       "      <td>2017-01-09 19:27:51</td>\n",
       "      <td>NaT</td>\n",
       "      <td>3.0</td>\n",
       "      <td>2017-01</td>\n",
       "    </tr>\n",
       "    <tr>\n",
       "      <th>9</th>\n",
       "      <td>5</td>\n",
       "      <td>5</td>\n",
       "      <td>2017-05-08 12:40:00</td>\n",
       "      <td>NaT</td>\n",
       "      <td>1.0</td>\n",
       "      <td>2017-05</td>\n",
       "    </tr>\n",
       "    <tr>\n",
       "      <th>...</th>\n",
       "      <td>...</td>\n",
       "      <td>...</td>\n",
       "      <td>...</td>\n",
       "      <td>...</td>\n",
       "      <td>...</td>\n",
       "      <td>...</td>\n",
       "    </tr>\n",
       "    <tr>\n",
       "      <th>12335</th>\n",
       "      <td>5985</td>\n",
       "      <td>5</td>\n",
       "      <td>2017-06-17 15:00:47</td>\n",
       "      <td>NaT</td>\n",
       "      <td>4.0</td>\n",
       "      <td>2017-06</td>\n",
       "    </tr>\n",
       "    <tr>\n",
       "      <th>12337</th>\n",
       "      <td>5986</td>\n",
       "      <td>1</td>\n",
       "      <td>2017-06-27 17:45:07</td>\n",
       "      <td>NaT</td>\n",
       "      <td>5.0</td>\n",
       "      <td>2017-06</td>\n",
       "    </tr>\n",
       "    <tr>\n",
       "      <th>12339</th>\n",
       "      <td>5987</td>\n",
       "      <td>3</td>\n",
       "      <td>2017-05-23 13:07:57</td>\n",
       "      <td>NaT</td>\n",
       "      <td>5.0</td>\n",
       "      <td>2017-05</td>\n",
       "    </tr>\n",
       "    <tr>\n",
       "      <th>12341</th>\n",
       "      <td>5988</td>\n",
       "      <td>4</td>\n",
       "      <td>2017-05-22 16:36:56</td>\n",
       "      <td>NaT</td>\n",
       "      <td>1.0</td>\n",
       "      <td>2017-05</td>\n",
       "    </tr>\n",
       "    <tr>\n",
       "      <th>12343</th>\n",
       "      <td>5989</td>\n",
       "      <td>1</td>\n",
       "      <td>2017-05-25 20:12:33</td>\n",
       "      <td>NaT</td>\n",
       "      <td>5.0</td>\n",
       "      <td>2017-05</td>\n",
       "    </tr>\n",
       "  </tbody>\n",
       "</table>\n",
       "<p>6355 rows × 6 columns</p>\n",
       "</div>"
      ],
      "text/plain": [
       "       SUBSCRIBER_ID  TARIFF_PLAN_ID          START_DTTM END_DTTM  \\\n",
       "1                  1               3 2017-03-11 14:24:18      NaT   \n",
       "3                  2               5 2017-06-29 12:39:59      NaT   \n",
       "5                  3               5 2017-04-14 12:01:00      NaT   \n",
       "7                  4               5 2017-01-09 19:27:51      NaT   \n",
       "9                  5               5 2017-05-08 12:40:00      NaT   \n",
       "...              ...             ...                 ...      ...   \n",
       "12335           5985               5 2017-06-17 15:00:47      NaT   \n",
       "12337           5986               1 2017-06-27 17:45:07      NaT   \n",
       "12339           5987               3 2017-05-23 13:07:57      NaT   \n",
       "12341           5988               4 2017-05-22 16:36:56      NaT   \n",
       "12343           5989               1 2017-05-25 20:12:33      NaT   \n",
       "\n",
       "       PREV_TARIFF change_month  \n",
       "1              2.0      2017-03  \n",
       "3              1.0      2017-06  \n",
       "5              1.0      2017-04  \n",
       "7              3.0      2017-01  \n",
       "9              1.0      2017-05  \n",
       "...            ...          ...  \n",
       "12335          4.0      2017-06  \n",
       "12337          5.0      2017-06  \n",
       "12339          5.0      2017-05  \n",
       "12341          1.0      2017-05  \n",
       "12343          5.0      2017-05  \n",
       "\n",
       "[6355 rows x 6 columns]"
      ]
     },
     "execution_count": 74,
     "metadata": {},
     "output_type": "execute_result"
    }
   ],
   "source": [
    "transitions "
   ]
  },
  {
   "cell_type": "code",
   "execution_count": null,
   "id": "26000ada",
   "metadata": {},
   "outputs": [],
   "source": []
  },
  {
   "cell_type": "code",
   "execution_count": 69,
   "id": "ec5a964c",
   "metadata": {},
   "outputs": [
    {
     "data": {
      "text/html": [
       "<div>\n",
       "<style scoped>\n",
       "    .dataframe tbody tr th:only-of-type {\n",
       "        vertical-align: middle;\n",
       "    }\n",
       "\n",
       "    .dataframe tbody tr th {\n",
       "        vertical-align: top;\n",
       "    }\n",
       "\n",
       "    .dataframe thead th {\n",
       "        text-align: right;\n",
       "    }\n",
       "</style>\n",
       "<table border=\"1\" class=\"dataframe\">\n",
       "  <thead>\n",
       "    <tr style=\"text-align: right;\">\n",
       "      <th></th>\n",
       "      <th>SUBSCRIBER_ID</th>\n",
       "      <th>TARIFF_PLAN_ID</th>\n",
       "      <th>START_DTTM</th>\n",
       "      <th>END_DTTM</th>\n",
       "      <th>PREV_TARIFF</th>\n",
       "      <th>change_month</th>\n",
       "      <th>transition</th>\n",
       "    </tr>\n",
       "  </thead>\n",
       "  <tbody>\n",
       "    <tr>\n",
       "      <th>1</th>\n",
       "      <td>1</td>\n",
       "      <td>3</td>\n",
       "      <td>2017-03-11 14:24:18</td>\n",
       "      <td>NaT</td>\n",
       "      <td>2.0</td>\n",
       "      <td>2017-03</td>\n",
       "      <td>2→3</td>\n",
       "    </tr>\n",
       "    <tr>\n",
       "      <th>3</th>\n",
       "      <td>2</td>\n",
       "      <td>5</td>\n",
       "      <td>2017-06-29 12:39:59</td>\n",
       "      <td>NaT</td>\n",
       "      <td>1.0</td>\n",
       "      <td>2017-06</td>\n",
       "      <td>1→5</td>\n",
       "    </tr>\n",
       "    <tr>\n",
       "      <th>5</th>\n",
       "      <td>3</td>\n",
       "      <td>5</td>\n",
       "      <td>2017-04-14 12:01:00</td>\n",
       "      <td>NaT</td>\n",
       "      <td>1.0</td>\n",
       "      <td>2017-04</td>\n",
       "      <td>1→5</td>\n",
       "    </tr>\n",
       "    <tr>\n",
       "      <th>7</th>\n",
       "      <td>4</td>\n",
       "      <td>5</td>\n",
       "      <td>2017-01-09 19:27:51</td>\n",
       "      <td>NaT</td>\n",
       "      <td>3.0</td>\n",
       "      <td>2017-01</td>\n",
       "      <td>3→5</td>\n",
       "    </tr>\n",
       "    <tr>\n",
       "      <th>9</th>\n",
       "      <td>5</td>\n",
       "      <td>5</td>\n",
       "      <td>2017-05-08 12:40:00</td>\n",
       "      <td>NaT</td>\n",
       "      <td>1.0</td>\n",
       "      <td>2017-05</td>\n",
       "      <td>1→5</td>\n",
       "    </tr>\n",
       "    <tr>\n",
       "      <th>...</th>\n",
       "      <td>...</td>\n",
       "      <td>...</td>\n",
       "      <td>...</td>\n",
       "      <td>...</td>\n",
       "      <td>...</td>\n",
       "      <td>...</td>\n",
       "      <td>...</td>\n",
       "    </tr>\n",
       "    <tr>\n",
       "      <th>12335</th>\n",
       "      <td>5985</td>\n",
       "      <td>5</td>\n",
       "      <td>2017-06-17 15:00:47</td>\n",
       "      <td>NaT</td>\n",
       "      <td>4.0</td>\n",
       "      <td>2017-06</td>\n",
       "      <td>4→5</td>\n",
       "    </tr>\n",
       "    <tr>\n",
       "      <th>12337</th>\n",
       "      <td>5986</td>\n",
       "      <td>1</td>\n",
       "      <td>2017-06-27 17:45:07</td>\n",
       "      <td>NaT</td>\n",
       "      <td>5.0</td>\n",
       "      <td>2017-06</td>\n",
       "      <td>5→1</td>\n",
       "    </tr>\n",
       "    <tr>\n",
       "      <th>12339</th>\n",
       "      <td>5987</td>\n",
       "      <td>3</td>\n",
       "      <td>2017-05-23 13:07:57</td>\n",
       "      <td>NaT</td>\n",
       "      <td>5.0</td>\n",
       "      <td>2017-05</td>\n",
       "      <td>5→3</td>\n",
       "    </tr>\n",
       "    <tr>\n",
       "      <th>12341</th>\n",
       "      <td>5988</td>\n",
       "      <td>4</td>\n",
       "      <td>2017-05-22 16:36:56</td>\n",
       "      <td>NaT</td>\n",
       "      <td>1.0</td>\n",
       "      <td>2017-05</td>\n",
       "      <td>1→4</td>\n",
       "    </tr>\n",
       "    <tr>\n",
       "      <th>12343</th>\n",
       "      <td>5989</td>\n",
       "      <td>1</td>\n",
       "      <td>2017-05-25 20:12:33</td>\n",
       "      <td>NaT</td>\n",
       "      <td>5.0</td>\n",
       "      <td>2017-05</td>\n",
       "      <td>5→1</td>\n",
       "    </tr>\n",
       "  </tbody>\n",
       "</table>\n",
       "<p>6355 rows × 7 columns</p>\n",
       "</div>"
      ],
      "text/plain": [
       "       SUBSCRIBER_ID  TARIFF_PLAN_ID          START_DTTM END_DTTM  \\\n",
       "1                  1               3 2017-03-11 14:24:18      NaT   \n",
       "3                  2               5 2017-06-29 12:39:59      NaT   \n",
       "5                  3               5 2017-04-14 12:01:00      NaT   \n",
       "7                  4               5 2017-01-09 19:27:51      NaT   \n",
       "9                  5               5 2017-05-08 12:40:00      NaT   \n",
       "...              ...             ...                 ...      ...   \n",
       "12335           5985               5 2017-06-17 15:00:47      NaT   \n",
       "12337           5986               1 2017-06-27 17:45:07      NaT   \n",
       "12339           5987               3 2017-05-23 13:07:57      NaT   \n",
       "12341           5988               4 2017-05-22 16:36:56      NaT   \n",
       "12343           5989               1 2017-05-25 20:12:33      NaT   \n",
       "\n",
       "       PREV_TARIFF change_month transition  \n",
       "1              2.0      2017-03        2→3  \n",
       "3              1.0      2017-06        1→5  \n",
       "5              1.0      2017-04        1→5  \n",
       "7              3.0      2017-01        3→5  \n",
       "9              1.0      2017-05        1→5  \n",
       "...            ...          ...        ...  \n",
       "12335          4.0      2017-06        4→5  \n",
       "12337          5.0      2017-06        5→1  \n",
       "12339          5.0      2017-05        5→3  \n",
       "12341          1.0      2017-05        1→4  \n",
       "12343          5.0      2017-05        5→1  \n",
       "\n",
       "[6355 rows x 7 columns]"
      ]
     },
     "execution_count": 69,
     "metadata": {},
     "output_type": "execute_result"
    }
   ],
   "source": [
    "test_df = df.head(100)  # или df.iloc[:100]\n",
    "\n",
    "\n",
    "# # Создаем датафрейм с переходами между тарифами (исключая начальные записи без PREV_TARIFF)\n",
    "transitions = df.dropna(subset=['PREV_TARIFF']).copy()\n",
    "# transitions\n",
    "transitions['transition'] = transitions['PREV_TARIFF'].astype(int).astype(str) + '→' + transitions['TARIFF_PLAN_ID'].astype(str)\n",
    "\n",
    "transitions\n",
    "\n",
    "# # Объединяем с данными о счетах (предполагаем, что billing содержит SUBSCRIBER_ID, MONTH и AMOUNT)\n",
    "# # Анализ за 3 месяца до и после смены тарифа\n",
    "# transitions['month_before'] = pd.to_datetime(transitions['change_month'] + '-01') - pd.DateOffset(months=3)\n",
    "# transitions['month_after'] = pd.to_datetime(transitions['change_month'] + '-01') + pd.DateOffset(months=3)\n",
    "\n",
    "# # Здесь должен быть код для расчета среднего счета до и после перехода\n",
    "# # Для примера предположим, что мы создали колонки:\n",
    "# # avg_before - средний счет за 3 месяца до перехода\n",
    "# # avg_after - средний счет за 3 месяца после перехода\n",
    "# # change - разница между avg_after и avg_before\n",
    "\n",
    "# # Группируем по типам переходов и рассчитываем среднее изменение\n",
    "# transition_stats = transitions.groupby('transition')['change'].agg(['mean', 'count']).reset_index()\n",
    "# transition_stats = transition_stats[transition_stats['count'] > 10]  # Берем только значимые переходы\n",
    "\n",
    "# # Разделяем на увеличение и уменьшение счета\n",
    "# increase = transition_stats[transition_stats['mean'] > 0]\n",
    "# decrease = transition_stats[transition_stats['mean'] < 0]\n",
    "\n",
    "# # Визуализация\n",
    "# plt.figure(figsize=(15, 6))\n",
    "\n",
    "# plt.subplot(1, 2, 1)\n",
    "# sns.barplot(data=increase, x='transition', y='mean', palette='Greens_d')\n",
    "# plt.title('Переходы с ростом среднего счета')\n",
    "# plt.xlabel('Переход между тарифами')\n",
    "# plt.ylabel('Среднее увеличение счета')\n",
    "# plt.xticks(rotation=45)\n",
    "\n",
    "# plt.subplot(1, 2, 2)\n",
    "# sns.barplot(data=decrease, x='transition', y='mean', palette='Reds_d')\n",
    "# plt.title('Переходы со снижением среднего счета')\n",
    "# plt.xlabel('Переход между тарифами')\n",
    "# plt.ylabel('Среднее уменьшение счета')\n",
    "# plt.xticks(rotation=45)\n",
    "\n",
    "# plt.tight_layout()\n",
    "# plt.show()"
   ]
  },
  {
   "cell_type": "code",
   "execution_count": 60,
   "id": "58ab887f",
   "metadata": {},
   "outputs": [],
   "source": [
    "results = []\n",
    "\n",
    "\n",
    "test_df = df.head(100)  # или df.iloc[:100]\n",
    "# for sub_id, group in test_df.groupby('SUBSCRIBER_ID'):\n",
    "#     print(f\"Абонент {sub_id} имеет {len(group)} записей\")\n",
    "#     # Дальнейшая обработка\n",
    "\n",
    "\n",
    "\n",
    "for sub_id, group in test_df.groupby('SUBSCRIBER_ID'):                   #for work with onebody separately. group - Under dataframe (str with data of ID) \n",
    "    for i, row in group.iterrows():\n",
    "        if pd.isna(row['change_month']):                             # Skip processing of lines where the tariff change date is not defined\n",
    "            continue\n",
    "            \n",
    "        # Периоды до и после\n",
    "        before_period = pd.period_range(end=row['change_month']-1, periods=3, freq='M')\n",
    "        after_period = pd.period_range(start=row['change_month']+1, periods=3, freq='M')\n",
    "        \n",
    "        # Средний счет до\n",
    "        before_avg = df_charges[(test_df['SUBSCRIBER_ID'] == sub_id) & \n",
    "            (df_charges['BILL_MONTH'].dt.to_period('M').isin(before_period))\n",
    "        ]['CHARGES'].mean()\n",
    "        \n",
    "        # Средний счет после\n",
    "        after_avg = df_charges[\n",
    "            (test_df['SUBSCRIBER_ID'] == sub_id) & \n",
    "            (df_charges['BILL_MONTH'].dt.to_period('M').isin(after_period))\n",
    "        ]['CHARGES'].mean()\n",
    "        \n",
    "        if not (pd.isna(before_avg)) and not (pd.isna(after_avg)):\n",
    "            results.append({\n",
    "                'subscriber_id': sub_id,\n",
    "                'from_tariff': row['TARIFF_PLAN_ID'],\n",
    "                'to_tariff': group.iloc[i+1]['TARIFF_PLAN_ID'] if i+1 < len(group) else None,\n",
    "                'change_month': row['change_month'],\n",
    "                'before_avg': before_avg,\n",
    "                'after_avg': after_avg,\n",
    "                'difference': after_avg - before_avg\n",
    "            })\n",
    "\n",
    "results_df = pd.DataFrame(results)"
   ]
  },
  {
   "cell_type": "code",
   "execution_count": 66,
   "id": "e6302d8d",
   "metadata": {},
   "outputs": [
    {
     "data": {
      "text/html": [
       "<div>\n",
       "<style scoped>\n",
       "    .dataframe tbody tr th:only-of-type {\n",
       "        vertical-align: middle;\n",
       "    }\n",
       "\n",
       "    .dataframe tbody tr th {\n",
       "        vertical-align: top;\n",
       "    }\n",
       "\n",
       "    .dataframe thead th {\n",
       "        text-align: right;\n",
       "    }\n",
       "</style>\n",
       "<table border=\"1\" class=\"dataframe\">\n",
       "  <thead>\n",
       "    <tr style=\"text-align: right;\">\n",
       "      <th></th>\n",
       "      <th>subscriber_id</th>\n",
       "      <th>from_tariff</th>\n",
       "      <th>to_tariff</th>\n",
       "      <th>change_month</th>\n",
       "      <th>before_avg</th>\n",
       "      <th>after_avg</th>\n",
       "      <th>difference</th>\n",
       "    </tr>\n",
       "  </thead>\n",
       "  <tbody>\n",
       "    <tr>\n",
       "      <th>0</th>\n",
       "      <td>7</td>\n",
       "      <td>5</td>\n",
       "      <td>None</td>\n",
       "      <td>2017-05</td>\n",
       "      <td>7.848</td>\n",
       "      <td>5.4280</td>\n",
       "      <td>-2.4200</td>\n",
       "    </tr>\n",
       "    <tr>\n",
       "      <th>1</th>\n",
       "      <td>10</td>\n",
       "      <td>5</td>\n",
       "      <td>None</td>\n",
       "      <td>2017-04</td>\n",
       "      <td>7.452</td>\n",
       "      <td>6.4420</td>\n",
       "      <td>-1.0100</td>\n",
       "    </tr>\n",
       "    <tr>\n",
       "      <th>2</th>\n",
       "      <td>14</td>\n",
       "      <td>5</td>\n",
       "      <td>None</td>\n",
       "      <td>2017-04</td>\n",
       "      <td>16.061</td>\n",
       "      <td>9.6890</td>\n",
       "      <td>-6.3720</td>\n",
       "    </tr>\n",
       "    <tr>\n",
       "      <th>3</th>\n",
       "      <td>23</td>\n",
       "      <td>5</td>\n",
       "      <td>None</td>\n",
       "      <td>2017-05</td>\n",
       "      <td>8.520</td>\n",
       "      <td>8.6285</td>\n",
       "      <td>0.1085</td>\n",
       "    </tr>\n",
       "    <tr>\n",
       "      <th>4</th>\n",
       "      <td>47</td>\n",
       "      <td>5</td>\n",
       "      <td>None</td>\n",
       "      <td>2017-06</td>\n",
       "      <td>6.753</td>\n",
       "      <td>4.9770</td>\n",
       "      <td>-1.7760</td>\n",
       "    </tr>\n",
       "    <tr>\n",
       "      <th>5</th>\n",
       "      <td>48</td>\n",
       "      <td>4</td>\n",
       "      <td>None</td>\n",
       "      <td>2017-04</td>\n",
       "      <td>13.220</td>\n",
       "      <td>49.2720</td>\n",
       "      <td>36.0520</td>\n",
       "    </tr>\n",
       "  </tbody>\n",
       "</table>\n",
       "</div>"
      ],
      "text/plain": [
       "   subscriber_id  from_tariff to_tariff change_month  before_avg  after_avg  \\\n",
       "0              7            5      None      2017-05       7.848     5.4280   \n",
       "1             10            5      None      2017-04       7.452     6.4420   \n",
       "2             14            5      None      2017-04      16.061     9.6890   \n",
       "3             23            5      None      2017-05       8.520     8.6285   \n",
       "4             47            5      None      2017-06       6.753     4.9770   \n",
       "5             48            4      None      2017-04      13.220    49.2720   \n",
       "\n",
       "   difference  \n",
       "0     -2.4200  \n",
       "1     -1.0100  \n",
       "2     -6.3720  \n",
       "3      0.1085  \n",
       "4     -1.7760  \n",
       "5     36.0520  "
      ]
     },
     "execution_count": 66,
     "metadata": {},
     "output_type": "execute_result"
    }
   ],
   "source": [
    "results_df"
   ]
  },
  {
   "cell_type": "code",
   "execution_count": 62,
   "id": "d43e5491",
   "metadata": {},
   "outputs": [],
   "source": [
    "# Группируем по направлениям (From → To)\n",
    "transition_stats = results_df.groupby(['from_tariff', 'to_tariff']).agg({\n",
    "    'difference': ['mean', 'count']\n",
    "}).reset_index()\n",
    "\n",
    "# Фильтруем значимые переходы (минимум 5 случаев)\n",
    "significant_transitions = transition_stats[transition_stats[('difference', 'count')] >= 5]\n",
    "significant_transitions.columns = ['from_tariff', 'to_tariff', 'mean_diff', 'count']"
   ]
  },
  {
   "cell_type": "code",
   "execution_count": 63,
   "id": "25254336",
   "metadata": {},
   "outputs": [
    {
     "data": {
      "image/png": "[encoded data removed]",
      "text/plain": [
       "<Figure size 1200x600 with 1 Axes>"
      ]
     },
     "metadata": {},
     "output_type": "display_data"
    }
   ],
   "source": [
    "plt.figure(figsize=(12, 6))\n",
    "sns.barplot(\n",
    "    x=significant_transitions['from_tariff'].astype(str) + \" → \" + significant_transitions['to_tariff'].astype(str),\n",
    "    y=significant_transitions['mean_diff'],\n",
    "    palette=['red' if x < 0 else 'green' for x in significant_transitions['mean_diff']]\n",
    ")\n",
    "plt.axhline(0, color='black', linestyle='--')\n",
    "plt.title('Изменение среднего счета после смены тарифа', fontsize=14)\n",
    "plt.xlabel('Направление перехода', fontsize=12)\n",
    "plt.ylabel('Среднее изменение счета (руб)', fontsize=12)\n",
    "plt.xticks(rotation=45)\n",
    "plt.grid(axis='y', linestyle='--', alpha=0.7)\n",
    "plt.show()"
   ]
  },
  {
   "cell_type": "code",
   "execution_count": 64,
   "id": "62afab62",
   "metadata": {},
   "outputs": [
    {
     "ename": "ValueError",
     "evalue": "zero-size array to reduction operation fmin which has no identity",
     "output_type": "error",
     "traceback": [
      "\u001b[1;31m---------------------------------------------------------------------------\u001b[0m",
      "\u001b[1;31mValueError\u001b[0m                                Traceback (most recent call last)",
      "Cell \u001b[1;32mIn[64], line 8\u001b[0m\n\u001b[0;32m      1\u001b[0m pivot_table \u001b[38;5;241m=\u001b[39m significant_transitions\u001b[38;5;241m.\u001b[39mpivot(\n\u001b[0;32m      2\u001b[0m     index\u001b[38;5;241m=\u001b[39m\u001b[38;5;124m'\u001b[39m\u001b[38;5;124mfrom_tariff\u001b[39m\u001b[38;5;124m'\u001b[39m,\n\u001b[0;32m      3\u001b[0m     columns\u001b[38;5;241m=\u001b[39m\u001b[38;5;124m'\u001b[39m\u001b[38;5;124mto_tariff\u001b[39m\u001b[38;5;124m'\u001b[39m,\n\u001b[0;32m      4\u001b[0m     values\u001b[38;5;241m=\u001b[39m\u001b[38;5;124m'\u001b[39m\u001b[38;5;124mmean_diff\u001b[39m\u001b[38;5;124m'\u001b[39m\n\u001b[0;32m      5\u001b[0m )\n\u001b[0;32m      7\u001b[0m plt\u001b[38;5;241m.\u001b[39mfigure(figsize\u001b[38;5;241m=\u001b[39m(\u001b[38;5;241m8\u001b[39m, \u001b[38;5;241m6\u001b[39m))\n\u001b[1;32m----> 8\u001b[0m \u001b[43msns\u001b[49m\u001b[38;5;241;43m.\u001b[39;49m\u001b[43mheatmap\u001b[49m\u001b[43m(\u001b[49m\n\u001b[0;32m      9\u001b[0m \u001b[43m    \u001b[49m\u001b[43mpivot_table\u001b[49m\u001b[43m,\u001b[49m\n\u001b[0;32m     10\u001b[0m \u001b[43m    \u001b[49m\u001b[43mannot\u001b[49m\u001b[38;5;241;43m=\u001b[39;49m\u001b[38;5;28;43;01mTrue\u001b[39;49;00m\u001b[43m,\u001b[49m\n\u001b[0;32m     11\u001b[0m \u001b[43m    \u001b[49m\u001b[43mfmt\u001b[49m\u001b[38;5;241;43m=\u001b[39;49m\u001b[38;5;124;43m\"\u001b[39;49m\u001b[38;5;124;43m.1f\u001b[39;49m\u001b[38;5;124;43m\"\u001b[39;49m\u001b[43m,\u001b[49m\n\u001b[0;32m     12\u001b[0m \u001b[43m    \u001b[49m\u001b[43mcmap\u001b[49m\u001b[38;5;241;43m=\u001b[39;49m\u001b[38;5;124;43m'\u001b[39;49m\u001b[38;5;124;43mRdYlGn\u001b[39;49m\u001b[38;5;124;43m'\u001b[39;49m\u001b[43m,\u001b[49m\n\u001b[0;32m     13\u001b[0m \u001b[43m    \u001b[49m\u001b[43mcenter\u001b[49m\u001b[38;5;241;43m=\u001b[39;49m\u001b[38;5;241;43m0\u001b[39;49m\u001b[43m,\u001b[49m\n\u001b[0;32m     14\u001b[0m \u001b[43m    \u001b[49m\u001b[43mlinewidths\u001b[49m\u001b[38;5;241;43m=\u001b[39;49m\u001b[38;5;241;43m0.5\u001b[39;49m\u001b[43m,\u001b[49m\n\u001b[0;32m     15\u001b[0m \u001b[43m    \u001b[49m\u001b[43mcbar_kws\u001b[49m\u001b[38;5;241;43m=\u001b[39;49m\u001b[43m{\u001b[49m\u001b[38;5;124;43m'\u001b[39;49m\u001b[38;5;124;43mlabel\u001b[39;49m\u001b[38;5;124;43m'\u001b[39;49m\u001b[43m:\u001b[49m\u001b[43m \u001b[49m\u001b[38;5;124;43m'\u001b[39;49m\u001b[38;5;124;43mИзменение счета (руб)\u001b[39;49m\u001b[38;5;124;43m'\u001b[39;49m\u001b[43m}\u001b[49m\n\u001b[0;32m     16\u001b[0m \u001b[43m)\u001b[49m\n\u001b[0;32m     17\u001b[0m plt\u001b[38;5;241m.\u001b[39mtitle(\u001b[38;5;124m'\u001b[39m\u001b[38;5;124mТепловая карта изменений счета после смены тарифа\u001b[39m\u001b[38;5;124m'\u001b[39m, fontsize\u001b[38;5;241m=\u001b[39m\u001b[38;5;241m14\u001b[39m)\n\u001b[0;32m     18\u001b[0m plt\u001b[38;5;241m.\u001b[39mxlabel(\u001b[38;5;124m'\u001b[39m\u001b[38;5;124mНовый тариф\u001b[39m\u001b[38;5;124m'\u001b[39m, fontsize\u001b[38;5;241m=\u001b[39m\u001b[38;5;241m12\u001b[39m)\n",
      "File \u001b[1;32mc:\\Users\\Admin\\WORK\\Time_series_analysis\\a1_venv\\lib\\site-packages\\seaborn\\matrix.py:446\u001b[0m, in \u001b[0;36mheatmap\u001b[1;34m(data, vmin, vmax, cmap, center, robust, annot, fmt, annot_kws, linewidths, linecolor, cbar, cbar_kws, cbar_ax, square, xticklabels, yticklabels, mask, ax, **kwargs)\u001b[0m\n\u001b[0;32m    365\u001b[0m \u001b[38;5;250m\u001b[39m\u001b[38;5;124;03m\"\"\"Plot rectangular data as a color-encoded matrix.\u001b[39;00m\n\u001b[0;32m    366\u001b[0m \n\u001b[0;32m    367\u001b[0m \u001b[38;5;124;03mThis is an Axes-level function and will draw the heatmap into the\u001b[39;00m\n\u001b[1;32m   (...)\u001b[0m\n\u001b[0;32m    443\u001b[0m \n\u001b[0;32m    444\u001b[0m \u001b[38;5;124;03m\"\"\"\u001b[39;00m\n\u001b[0;32m    445\u001b[0m \u001b[38;5;66;03m# Initialize the plotter object\u001b[39;00m\n\u001b[1;32m--> 446\u001b[0m plotter \u001b[38;5;241m=\u001b[39m \u001b[43m_HeatMapper\u001b[49m\u001b[43m(\u001b[49m\u001b[43mdata\u001b[49m\u001b[43m,\u001b[49m\u001b[43m \u001b[49m\u001b[43mvmin\u001b[49m\u001b[43m,\u001b[49m\u001b[43m \u001b[49m\u001b[43mvmax\u001b[49m\u001b[43m,\u001b[49m\u001b[43m \u001b[49m\u001b[43mcmap\u001b[49m\u001b[43m,\u001b[49m\u001b[43m \u001b[49m\u001b[43mcenter\u001b[49m\u001b[43m,\u001b[49m\u001b[43m \u001b[49m\u001b[43mrobust\u001b[49m\u001b[43m,\u001b[49m\u001b[43m \u001b[49m\u001b[43mannot\u001b[49m\u001b[43m,\u001b[49m\u001b[43m \u001b[49m\u001b[43mfmt\u001b[49m\u001b[43m,\u001b[49m\n\u001b[0;32m    447\u001b[0m \u001b[43m                      \u001b[49m\u001b[43mannot_kws\u001b[49m\u001b[43m,\u001b[49m\u001b[43m \u001b[49m\u001b[43mcbar\u001b[49m\u001b[43m,\u001b[49m\u001b[43m \u001b[49m\u001b[43mcbar_kws\u001b[49m\u001b[43m,\u001b[49m\u001b[43m \u001b[49m\u001b[43mxticklabels\u001b[49m\u001b[43m,\u001b[49m\n\u001b[0;32m    448\u001b[0m \u001b[43m                      \u001b[49m\u001b[43myticklabels\u001b[49m\u001b[43m,\u001b[49m\u001b[43m \u001b[49m\u001b[43mmask\u001b[49m\u001b[43m)\u001b[49m\n\u001b[0;32m    450\u001b[0m \u001b[38;5;66;03m# Add the pcolormesh kwargs here\u001b[39;00m\n\u001b[0;32m    451\u001b[0m kwargs[\u001b[38;5;124m\"\u001b[39m\u001b[38;5;124mlinewidths\u001b[39m\u001b[38;5;124m\"\u001b[39m] \u001b[38;5;241m=\u001b[39m linewidths\n",
      "File \u001b[1;32mc:\\Users\\Admin\\WORK\\Time_series_analysis\\a1_venv\\lib\\site-packages\\seaborn\\matrix.py:163\u001b[0m, in \u001b[0;36m_HeatMapper.__init__\u001b[1;34m(self, data, vmin, vmax, cmap, center, robust, annot, fmt, annot_kws, cbar, cbar_kws, xticklabels, yticklabels, mask)\u001b[0m\n\u001b[0;32m    160\u001b[0m \u001b[38;5;28mself\u001b[39m\u001b[38;5;241m.\u001b[39mylabel \u001b[38;5;241m=\u001b[39m ylabel \u001b[38;5;28;01mif\u001b[39;00m ylabel \u001b[38;5;129;01mis\u001b[39;00m \u001b[38;5;129;01mnot\u001b[39;00m \u001b[38;5;28;01mNone\u001b[39;00m \u001b[38;5;28;01melse\u001b[39;00m \u001b[38;5;124m\"\u001b[39m\u001b[38;5;124m\"\u001b[39m\n\u001b[0;32m    162\u001b[0m \u001b[38;5;66;03m# Determine good default values for the colormapping\u001b[39;00m\n\u001b[1;32m--> 163\u001b[0m \u001b[38;5;28;43mself\u001b[39;49m\u001b[38;5;241;43m.\u001b[39;49m\u001b[43m_determine_cmap_params\u001b[49m\u001b[43m(\u001b[49m\u001b[43mplot_data\u001b[49m\u001b[43m,\u001b[49m\u001b[43m \u001b[49m\u001b[43mvmin\u001b[49m\u001b[43m,\u001b[49m\u001b[43m \u001b[49m\u001b[43mvmax\u001b[49m\u001b[43m,\u001b[49m\n\u001b[0;32m    164\u001b[0m \u001b[43m                            \u001b[49m\u001b[43mcmap\u001b[49m\u001b[43m,\u001b[49m\u001b[43m \u001b[49m\u001b[43mcenter\u001b[49m\u001b[43m,\u001b[49m\u001b[43m \u001b[49m\u001b[43mrobust\u001b[49m\u001b[43m)\u001b[49m\n\u001b[0;32m    166\u001b[0m \u001b[38;5;66;03m# Sort out the annotations\u001b[39;00m\n\u001b[0;32m    167\u001b[0m \u001b[38;5;28;01mif\u001b[39;00m annot \u001b[38;5;129;01mis\u001b[39;00m \u001b[38;5;28;01mNone\u001b[39;00m \u001b[38;5;129;01mor\u001b[39;00m annot \u001b[38;5;129;01mis\u001b[39;00m \u001b[38;5;28;01mFalse\u001b[39;00m:\n",
      "File \u001b[1;32mc:\\Users\\Admin\\WORK\\Time_series_analysis\\a1_venv\\lib\\site-packages\\seaborn\\matrix.py:202\u001b[0m, in \u001b[0;36m_HeatMapper._determine_cmap_params\u001b[1;34m(self, plot_data, vmin, vmax, cmap, center, robust)\u001b[0m\n\u001b[0;32m    200\u001b[0m         vmin \u001b[38;5;241m=\u001b[39m np\u001b[38;5;241m.\u001b[39mnanpercentile(calc_data, \u001b[38;5;241m2\u001b[39m)\n\u001b[0;32m    201\u001b[0m     \u001b[38;5;28;01melse\u001b[39;00m:\n\u001b[1;32m--> 202\u001b[0m         vmin \u001b[38;5;241m=\u001b[39m \u001b[43mnp\u001b[49m\u001b[38;5;241;43m.\u001b[39;49m\u001b[43mnanmin\u001b[49m\u001b[43m(\u001b[49m\u001b[43mcalc_data\u001b[49m\u001b[43m)\u001b[49m\n\u001b[0;32m    203\u001b[0m \u001b[38;5;28;01mif\u001b[39;00m vmax \u001b[38;5;129;01mis\u001b[39;00m \u001b[38;5;28;01mNone\u001b[39;00m:\n\u001b[0;32m    204\u001b[0m     \u001b[38;5;28;01mif\u001b[39;00m robust:\n",
      "File \u001b[1;32mc:\\Users\\Admin\\WORK\\Time_series_analysis\\a1_venv\\lib\\site-packages\\numpy\\lib\\_nanfunctions_impl.py:357\u001b[0m, in \u001b[0;36mnanmin\u001b[1;34m(a, axis, out, keepdims, initial, where)\u001b[0m\n\u001b[0;32m    352\u001b[0m     kwargs[\u001b[38;5;124m'\u001b[39m\u001b[38;5;124mwhere\u001b[39m\u001b[38;5;124m'\u001b[39m] \u001b[38;5;241m=\u001b[39m where\n\u001b[0;32m    354\u001b[0m \u001b[38;5;28;01mif\u001b[39;00m \u001b[38;5;28mtype\u001b[39m(a) \u001b[38;5;129;01mis\u001b[39;00m np\u001b[38;5;241m.\u001b[39mndarray \u001b[38;5;129;01mand\u001b[39;00m a\u001b[38;5;241m.\u001b[39mdtype \u001b[38;5;241m!=\u001b[39m np\u001b[38;5;241m.\u001b[39mobject_:\n\u001b[0;32m    355\u001b[0m     \u001b[38;5;66;03m# Fast, but not safe for subclasses of ndarray, or object arrays,\u001b[39;00m\n\u001b[0;32m    356\u001b[0m     \u001b[38;5;66;03m# which do not implement isnan (gh-9009), or fmin correctly (gh-8975)\u001b[39;00m\n\u001b[1;32m--> 357\u001b[0m     res \u001b[38;5;241m=\u001b[39m np\u001b[38;5;241m.\u001b[39mfmin\u001b[38;5;241m.\u001b[39mreduce(a, axis\u001b[38;5;241m=\u001b[39maxis, out\u001b[38;5;241m=\u001b[39mout, \u001b[38;5;241m*\u001b[39m\u001b[38;5;241m*\u001b[39mkwargs)\n\u001b[0;32m    358\u001b[0m     \u001b[38;5;28;01mif\u001b[39;00m np\u001b[38;5;241m.\u001b[39misnan(res)\u001b[38;5;241m.\u001b[39many():\n\u001b[0;32m    359\u001b[0m         warnings\u001b[38;5;241m.\u001b[39mwarn(\u001b[38;5;124m\"\u001b[39m\u001b[38;5;124mAll-NaN slice encountered\u001b[39m\u001b[38;5;124m\"\u001b[39m, \u001b[38;5;167;01mRuntimeWarning\u001b[39;00m,\n\u001b[0;32m    360\u001b[0m                       stacklevel\u001b[38;5;241m=\u001b[39m\u001b[38;5;241m2\u001b[39m)\n",
      "\u001b[1;31mValueError\u001b[0m: zero-size array to reduction operation fmin which has no identity"
     ]
    },
    {
     "data": {
      "text/plain": [
       "<Figure size 800x600 with 0 Axes>"
      ]
     },
     "metadata": {},
     "output_type": "display_data"
    }
   ],
   "source": [
    "pivot_table = significant_transitions.pivot(\n",
    "    index='from_tariff',\n",
    "    columns='to_tariff',\n",
    "    values='mean_diff'\n",
    ")\n",
    "\n",
    "plt.figure(figsize=(8, 6))\n",
    "sns.heatmap(\n",
    "    pivot_table,\n",
    "    annot=True,\n",
    "    fmt=\".1f\",\n",
    "    cmap='RdYlGn',\n",
    "    center=0,\n",
    "    linewidths=0.5,\n",
    "    cbar_kws={'label': 'Изменение счета (руб)'}\n",
    ")\n",
    "plt.title('Тепловая карта изменений счета после смены тарифа', fontsize=14)\n",
    "plt.xlabel('Новый тариф', fontsize=12)\n",
    "plt.ylabel('Старый тариф', fontsize=12)\n",
    "plt.show()\n"
   ]
  },
  {
   "cell_type": "code",
   "execution_count": 49,
   "id": "3faabdb9",
   "metadata": {},
   "outputs": [],
   "source": [
    "transition_effects = results_df.groupby(['from_tariff', 'to_tariff']).agg({\n",
    "    'before_avg': 'mean',\n",
    "    'after_avg': 'mean',\n",
    "    'difference': ['mean', 'count']\n",
    "}).reset_index()\n",
    "\n",
    "# Фильтруем значимые переходы (минимум 5 случаев)\n",
    "significant_transitions = transition_effects[transition_effects[('difference', 'count')] >= 5]"
   ]
  },
  {
   "cell_type": "code",
   "execution_count": null,
   "id": "9e567620",
   "metadata": {},
   "outputs": [
    {
     "data": {
      "text/html": [
       "<div>\n",
       "<style scoped>\n",
       "    .dataframe tbody tr th:only-of-type {\n",
       "        vertical-align: middle;\n",
       "    }\n",
       "\n",
       "    .dataframe tbody tr th {\n",
       "        vertical-align: top;\n",
       "    }\n",
       "\n",
       "    .dataframe thead tr th {\n",
       "        text-align: left;\n",
       "    }\n",
       "</style>\n",
       "<table border=\"1\" class=\"dataframe\">\n",
       "  <thead>\n",
       "    <tr>\n",
       "      <th></th>\n",
       "      <th>from_tariff</th>\n",
       "      <th>to_tariff</th>\n",
       "      <th>before_avg</th>\n",
       "      <th>after_avg</th>\n",
       "      <th colspan=\"2\" halign=\"left\">difference</th>\n",
       "    </tr>\n",
       "    <tr>\n",
       "      <th></th>\n",
       "      <th></th>\n",
       "      <th></th>\n",
       "      <th>mean</th>\n",
       "      <th>mean</th>\n",
       "      <th>mean</th>\n",
       "      <th>count</th>\n",
       "    </tr>\n",
       "  </thead>\n",
       "  <tbody>\n",
       "  </tbody>\n",
       "</table>\n",
       "</div>"
      ],
      "text/plain": [
       "Empty DataFrame\n",
       "Columns: [(from_tariff, ), (to_tariff, ), (before_avg, mean), (after_avg, mean), (difference, mean), (difference, count)]\n",
       "Index: []"
      ]
     },
     "execution_count": 50,
     "metadata": {},
     "output_type": "execute_result"
    }
   ],
   "source": []
  },
  {
   "cell_type": "code",
   "execution_count": 51,
   "id": "dfb5ea20",
   "metadata": {},
   "outputs": [
    {
     "data": {
      "image/png": "[encoded data removed]",
      "text/plain": [
       "<Figure size 1200x600 with 1 Axes>"
      ]
     },
     "metadata": {},
     "output_type": "display_data"
    }
   ],
   "source": [
    "plt.figure(figsize=(12, 6))\n",
    "sns.barplot(\n",
    "    x=significant_transitions['from_tariff'].astype(str) + \"→\" + significant_transitions['to_tariff'].astype(str),\n",
    "    y=significant_transitions[('difference', 'mean')],\n",
    "    palette=['red' if x < 0 else 'green' for x in significant_transitions[('difference', 'mean')]]\n",
    ")\n",
    "plt.axhline(0, color='black')\n",
    "plt.title('Изменение среднего счета после смены тарифа')\n",
    "plt.ylabel('Среднее изменение счета')\n",
    "plt.xlabel('Направление перехода')\n",
    "plt.xticks(rotation=45)\n",
    "plt.show()"
   ]
  },
  {
   "cell_type": "code",
   "execution_count": 52,
   "id": "44835d1a",
   "metadata": {},
   "outputs": [
    {
     "ename": "ValueError",
     "evalue": "zero-size array to reduction operation fmin which has no identity",
     "output_type": "error",
     "traceback": [
      "\u001b[1;31m---------------------------------------------------------------------------\u001b[0m",
      "\u001b[1;31mValueError\u001b[0m                                Traceback (most recent call last)",
      "Cell \u001b[1;32mIn[52], line 8\u001b[0m\n\u001b[0;32m      1\u001b[0m pivot_table \u001b[38;5;241m=\u001b[39m significant_transitions\u001b[38;5;241m.\u001b[39mpivot(\n\u001b[0;32m      2\u001b[0m     index\u001b[38;5;241m=\u001b[39m\u001b[38;5;124m'\u001b[39m\u001b[38;5;124mfrom_tariff\u001b[39m\u001b[38;5;124m'\u001b[39m,\n\u001b[0;32m      3\u001b[0m     columns\u001b[38;5;241m=\u001b[39m\u001b[38;5;124m'\u001b[39m\u001b[38;5;124mto_tariff\u001b[39m\u001b[38;5;124m'\u001b[39m,\n\u001b[0;32m      4\u001b[0m     values\u001b[38;5;241m=\u001b[39m(\u001b[38;5;124m'\u001b[39m\u001b[38;5;124mdifference\u001b[39m\u001b[38;5;124m'\u001b[39m, \u001b[38;5;124m'\u001b[39m\u001b[38;5;124mmean\u001b[39m\u001b[38;5;124m'\u001b[39m)\n\u001b[0;32m      5\u001b[0m )\n\u001b[0;32m      7\u001b[0m plt\u001b[38;5;241m.\u001b[39mfigure(figsize\u001b[38;5;241m=\u001b[39m(\u001b[38;5;241m8\u001b[39m, \u001b[38;5;241m6\u001b[39m))\n\u001b[1;32m----> 8\u001b[0m \u001b[43msns\u001b[49m\u001b[38;5;241;43m.\u001b[39;49m\u001b[43mheatmap\u001b[49m\u001b[43m(\u001b[49m\n\u001b[0;32m      9\u001b[0m \u001b[43m    \u001b[49m\u001b[43mpivot_table\u001b[49m\u001b[43m,\u001b[49m\n\u001b[0;32m     10\u001b[0m \u001b[43m    \u001b[49m\u001b[43mannot\u001b[49m\u001b[38;5;241;43m=\u001b[39;49m\u001b[38;5;28;43;01mTrue\u001b[39;49;00m\u001b[43m,\u001b[49m\n\u001b[0;32m     11\u001b[0m \u001b[43m    \u001b[49m\u001b[43mfmt\u001b[49m\u001b[38;5;241;43m=\u001b[39;49m\u001b[38;5;124;43m\"\u001b[39;49m\u001b[38;5;124;43m.1f\u001b[39;49m\u001b[38;5;124;43m\"\u001b[39;49m\u001b[43m,\u001b[49m\n\u001b[0;32m     12\u001b[0m \u001b[43m    \u001b[49m\u001b[43mcmap\u001b[49m\u001b[38;5;241;43m=\u001b[39;49m\u001b[38;5;124;43m'\u001b[39;49m\u001b[38;5;124;43mcoolwarm\u001b[39;49m\u001b[38;5;124;43m'\u001b[39;49m\u001b[43m,\u001b[49m\n\u001b[0;32m     13\u001b[0m \u001b[43m    \u001b[49m\u001b[43mcenter\u001b[49m\u001b[38;5;241;43m=\u001b[39;49m\u001b[38;5;241;43m0\u001b[39;49m\u001b[43m,\u001b[49m\n\u001b[0;32m     14\u001b[0m \u001b[43m    \u001b[49m\u001b[43mlinewidths\u001b[49m\u001b[38;5;241;43m=\u001b[39;49m\u001b[38;5;241;43m.5\u001b[39;49m\n\u001b[0;32m     15\u001b[0m \u001b[43m)\u001b[49m\n\u001b[0;32m     16\u001b[0m plt\u001b[38;5;241m.\u001b[39mtitle(\u001b[38;5;124m'\u001b[39m\u001b[38;5;124mТепловая карта изменений среднего счета\u001b[39m\u001b[38;5;124m'\u001b[39m)\n\u001b[0;32m     17\u001b[0m plt\u001b[38;5;241m.\u001b[39mxlabel(\u001b[38;5;124m'\u001b[39m\u001b[38;5;124mНовый тариф\u001b[39m\u001b[38;5;124m'\u001b[39m)\n",
      "File \u001b[1;32mc:\\Users\\Admin\\WORK\\Time_series_analysis\\a1_venv\\lib\\site-packages\\seaborn\\matrix.py:446\u001b[0m, in \u001b[0;36mheatmap\u001b[1;34m(data, vmin, vmax, cmap, center, robust, annot, fmt, annot_kws, linewidths, linecolor, cbar, cbar_kws, cbar_ax, square, xticklabels, yticklabels, mask, ax, **kwargs)\u001b[0m\n\u001b[0;32m    365\u001b[0m \u001b[38;5;250m\u001b[39m\u001b[38;5;124;03m\"\"\"Plot rectangular data as a color-encoded matrix.\u001b[39;00m\n\u001b[0;32m    366\u001b[0m \n\u001b[0;32m    367\u001b[0m \u001b[38;5;124;03mThis is an Axes-level function and will draw the heatmap into the\u001b[39;00m\n\u001b[1;32m   (...)\u001b[0m\n\u001b[0;32m    443\u001b[0m \n\u001b[0;32m    444\u001b[0m \u001b[38;5;124;03m\"\"\"\u001b[39;00m\n\u001b[0;32m    445\u001b[0m \u001b[38;5;66;03m# Initialize the plotter object\u001b[39;00m\n\u001b[1;32m--> 446\u001b[0m plotter \u001b[38;5;241m=\u001b[39m \u001b[43m_HeatMapper\u001b[49m\u001b[43m(\u001b[49m\u001b[43mdata\u001b[49m\u001b[43m,\u001b[49m\u001b[43m \u001b[49m\u001b[43mvmin\u001b[49m\u001b[43m,\u001b[49m\u001b[43m \u001b[49m\u001b[43mvmax\u001b[49m\u001b[43m,\u001b[49m\u001b[43m \u001b[49m\u001b[43mcmap\u001b[49m\u001b[43m,\u001b[49m\u001b[43m \u001b[49m\u001b[43mcenter\u001b[49m\u001b[43m,\u001b[49m\u001b[43m \u001b[49m\u001b[43mrobust\u001b[49m\u001b[43m,\u001b[49m\u001b[43m \u001b[49m\u001b[43mannot\u001b[49m\u001b[43m,\u001b[49m\u001b[43m \u001b[49m\u001b[43mfmt\u001b[49m\u001b[43m,\u001b[49m\n\u001b[0;32m    447\u001b[0m \u001b[43m                      \u001b[49m\u001b[43mannot_kws\u001b[49m\u001b[43m,\u001b[49m\u001b[43m \u001b[49m\u001b[43mcbar\u001b[49m\u001b[43m,\u001b[49m\u001b[43m \u001b[49m\u001b[43mcbar_kws\u001b[49m\u001b[43m,\u001b[49m\u001b[43m \u001b[49m\u001b[43mxticklabels\u001b[49m\u001b[43m,\u001b[49m\n\u001b[0;32m    448\u001b[0m \u001b[43m                      \u001b[49m\u001b[43myticklabels\u001b[49m\u001b[43m,\u001b[49m\u001b[43m \u001b[49m\u001b[43mmask\u001b[49m\u001b[43m)\u001b[49m\n\u001b[0;32m    450\u001b[0m \u001b[38;5;66;03m# Add the pcolormesh kwargs here\u001b[39;00m\n\u001b[0;32m    451\u001b[0m kwargs[\u001b[38;5;124m\"\u001b[39m\u001b[38;5;124mlinewidths\u001b[39m\u001b[38;5;124m\"\u001b[39m] \u001b[38;5;241m=\u001b[39m linewidths\n",
      "File \u001b[1;32mc:\\Users\\Admin\\WORK\\Time_series_analysis\\a1_venv\\lib\\site-packages\\seaborn\\matrix.py:163\u001b[0m, in \u001b[0;36m_HeatMapper.__init__\u001b[1;34m(self, data, vmin, vmax, cmap, center, robust, annot, fmt, annot_kws, cbar, cbar_kws, xticklabels, yticklabels, mask)\u001b[0m\n\u001b[0;32m    160\u001b[0m \u001b[38;5;28mself\u001b[39m\u001b[38;5;241m.\u001b[39mylabel \u001b[38;5;241m=\u001b[39m ylabel \u001b[38;5;28;01mif\u001b[39;00m ylabel \u001b[38;5;129;01mis\u001b[39;00m \u001b[38;5;129;01mnot\u001b[39;00m \u001b[38;5;28;01mNone\u001b[39;00m \u001b[38;5;28;01melse\u001b[39;00m \u001b[38;5;124m\"\u001b[39m\u001b[38;5;124m\"\u001b[39m\n\u001b[0;32m    162\u001b[0m \u001b[38;5;66;03m# Determine good default values for the colormapping\u001b[39;00m\n\u001b[1;32m--> 163\u001b[0m \u001b[38;5;28;43mself\u001b[39;49m\u001b[38;5;241;43m.\u001b[39;49m\u001b[43m_determine_cmap_params\u001b[49m\u001b[43m(\u001b[49m\u001b[43mplot_data\u001b[49m\u001b[43m,\u001b[49m\u001b[43m \u001b[49m\u001b[43mvmin\u001b[49m\u001b[43m,\u001b[49m\u001b[43m \u001b[49m\u001b[43mvmax\u001b[49m\u001b[43m,\u001b[49m\n\u001b[0;32m    164\u001b[0m \u001b[43m                            \u001b[49m\u001b[43mcmap\u001b[49m\u001b[43m,\u001b[49m\u001b[43m \u001b[49m\u001b[43mcenter\u001b[49m\u001b[43m,\u001b[49m\u001b[43m \u001b[49m\u001b[43mrobust\u001b[49m\u001b[43m)\u001b[49m\n\u001b[0;32m    166\u001b[0m \u001b[38;5;66;03m# Sort out the annotations\u001b[39;00m\n\u001b[0;32m    167\u001b[0m \u001b[38;5;28;01mif\u001b[39;00m annot \u001b[38;5;129;01mis\u001b[39;00m \u001b[38;5;28;01mNone\u001b[39;00m \u001b[38;5;129;01mor\u001b[39;00m annot \u001b[38;5;129;01mis\u001b[39;00m \u001b[38;5;28;01mFalse\u001b[39;00m:\n",
      "File \u001b[1;32mc:\\Users\\Admin\\WORK\\Time_series_analysis\\a1_venv\\lib\\site-packages\\seaborn\\matrix.py:202\u001b[0m, in \u001b[0;36m_HeatMapper._determine_cmap_params\u001b[1;34m(self, plot_data, vmin, vmax, cmap, center, robust)\u001b[0m\n\u001b[0;32m    200\u001b[0m         vmin \u001b[38;5;241m=\u001b[39m np\u001b[38;5;241m.\u001b[39mnanpercentile(calc_data, \u001b[38;5;241m2\u001b[39m)\n\u001b[0;32m    201\u001b[0m     \u001b[38;5;28;01melse\u001b[39;00m:\n\u001b[1;32m--> 202\u001b[0m         vmin \u001b[38;5;241m=\u001b[39m \u001b[43mnp\u001b[49m\u001b[38;5;241;43m.\u001b[39;49m\u001b[43mnanmin\u001b[49m\u001b[43m(\u001b[49m\u001b[43mcalc_data\u001b[49m\u001b[43m)\u001b[49m\n\u001b[0;32m    203\u001b[0m \u001b[38;5;28;01mif\u001b[39;00m vmax \u001b[38;5;129;01mis\u001b[39;00m \u001b[38;5;28;01mNone\u001b[39;00m:\n\u001b[0;32m    204\u001b[0m     \u001b[38;5;28;01mif\u001b[39;00m robust:\n",
      "File \u001b[1;32mc:\\Users\\Admin\\WORK\\Time_series_analysis\\a1_venv\\lib\\site-packages\\numpy\\lib\\_nanfunctions_impl.py:357\u001b[0m, in \u001b[0;36mnanmin\u001b[1;34m(a, axis, out, keepdims, initial, where)\u001b[0m\n\u001b[0;32m    352\u001b[0m     kwargs[\u001b[38;5;124m'\u001b[39m\u001b[38;5;124mwhere\u001b[39m\u001b[38;5;124m'\u001b[39m] \u001b[38;5;241m=\u001b[39m where\n\u001b[0;32m    354\u001b[0m \u001b[38;5;28;01mif\u001b[39;00m \u001b[38;5;28mtype\u001b[39m(a) \u001b[38;5;129;01mis\u001b[39;00m np\u001b[38;5;241m.\u001b[39mndarray \u001b[38;5;129;01mand\u001b[39;00m a\u001b[38;5;241m.\u001b[39mdtype \u001b[38;5;241m!=\u001b[39m np\u001b[38;5;241m.\u001b[39mobject_:\n\u001b[0;32m    355\u001b[0m     \u001b[38;5;66;03m# Fast, but not safe for subclasses of ndarray, or object arrays,\u001b[39;00m\n\u001b[0;32m    356\u001b[0m     \u001b[38;5;66;03m# which do not implement isnan (gh-9009), or fmin correctly (gh-8975)\u001b[39;00m\n\u001b[1;32m--> 357\u001b[0m     res \u001b[38;5;241m=\u001b[39m np\u001b[38;5;241m.\u001b[39mfmin\u001b[38;5;241m.\u001b[39mreduce(a, axis\u001b[38;5;241m=\u001b[39maxis, out\u001b[38;5;241m=\u001b[39mout, \u001b[38;5;241m*\u001b[39m\u001b[38;5;241m*\u001b[39mkwargs)\n\u001b[0;32m    358\u001b[0m     \u001b[38;5;28;01mif\u001b[39;00m np\u001b[38;5;241m.\u001b[39misnan(res)\u001b[38;5;241m.\u001b[39many():\n\u001b[0;32m    359\u001b[0m         warnings\u001b[38;5;241m.\u001b[39mwarn(\u001b[38;5;124m\"\u001b[39m\u001b[38;5;124mAll-NaN slice encountered\u001b[39m\u001b[38;5;124m\"\u001b[39m, \u001b[38;5;167;01mRuntimeWarning\u001b[39;00m,\n\u001b[0;32m    360\u001b[0m                       stacklevel\u001b[38;5;241m=\u001b[39m\u001b[38;5;241m2\u001b[39m)\n",
      "\u001b[1;31mValueError\u001b[0m: zero-size array to reduction operation fmin which has no identity"
     ]
    },
    {
     "data": {
      "text/plain": [
       "<Figure size 800x600 with 0 Axes>"
      ]
     },
     "metadata": {},
     "output_type": "display_data"
    }
   ],
   "source": [
    "pivot_table = significant_transitions.pivot(\n",
    "    index='from_tariff',\n",
    "    columns='to_tariff',\n",
    "    values=('difference', 'mean')\n",
    ")\n",
    "\n",
    "plt.figure(figsize=(8, 6))\n",
    "sns.heatmap(\n",
    "    pivot_table,\n",
    "    annot=True,\n",
    "    fmt=\".1f\",\n",
    "    cmap='coolwarm',\n",
    "    center=0,\n",
    "    linewidths=.5\n",
    ")\n",
    "plt.title('Тепловая карта изменений среднего счета')\n",
    "plt.xlabel('Новый тариф')\n",
    "plt.ylabel('Старый тариф')\n",
    "plt.show()"
   ]
  },
  {
   "cell_type": "code",
   "execution_count": null,
   "id": "12fe4b40",
   "metadata": {},
   "outputs": [],
   "source": []
  }
 ],
 "metadata": {
  "kernelspec": {
   "display_name": "a1_venv",
   "language": "python",
   "name": "python3"
  },
  "language_info": {
   "codemirror_mode": {
    "name": "ipython",
    "version": 3
   },
   "file_extension": ".py",
   "mimetype": "text/x-python",
   "name": "python",
   "nbconvert_exporter": "python",
   "pygments_lexer": "ipython3",
   "version": "3.10.0"
  }
 },
 "nbformat": 4,
 "nbformat_minor": 5
}
